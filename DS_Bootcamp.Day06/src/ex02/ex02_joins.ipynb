{
 "cells": [
  {
   "cell_type": "markdown",
   "id": "9742ea8522f4ea24",
   "metadata": {},
   "source": [
    "## Упражнение 02: Присоединиться"
   ]
  },
  {
   "cell_type": "code",
   "execution_count": 2,
   "id": "f842bb97b022b26d",
   "metadata": {
    "ExecuteTime": {
     "end_time": "2025-01-08T13:09:24.411100Z",
     "start_time": "2025-01-08T13:09:24.196760Z"
    }
   },
   "outputs": [],
   "source": [
    "import pandas as pd\n",
    "import sqlite3"
   ]
  },
  {
   "cell_type": "markdown",
   "id": "d6ddec21578584e4",
   "metadata": {},
   "source": [
    "## создаем подключение к базе данных с помощью библиотеки sqlite3"
   ]
  },
  {
   "cell_type": "code",
   "execution_count": 3,
   "id": "96cb6961d56dfdb8",
   "metadata": {
    "ExecuteTime": {
     "end_time": "2025-01-08T13:09:24.414842Z",
     "start_time": "2025-01-08T13:09:24.412320Z"
    }
   },
   "outputs": [],
   "source": [
    "conn = sqlite3.connect('../data/checking-logs.sqlite')"
   ]
  },
  {
   "cell_type": "markdown",
   "id": "5aa00106334818ce",
   "metadata": {},
   "source": [
    "## создать новую таблицу datamart в базе данных, объединив таблицы pageviews и checker, используя только один запрос:\n",
    "- таблица должна иметь следующие столбцы: uid, labname, first_commit_ts, first_view_ts\n",
    "- first_commit_ts — это просто новое имя столбца timestamp из таблицы проверки, оно показывает первый коммит из конкретной лаборатории и от конкретного пользователя.\n",
    "- first_view_ts — первый визит пользователя в - таблицу pageviews, временная метка, когда пользователь посетил ленту новостей\n",
    "- статус = «готов» все еще должен быть фильтром\n",
    "- numTrials = 1 все равно должен быть фильтром\n",
    "имена лабораторий должны быть из списка: 'laba04', 'laba04s', 'laba05', 'laba06', 'laba06s', 'project1'\n",
    "- таблица должна содержать только пользователей (uid с user_*), а не администраторов\n",
    "- first_commit_ts и first_view_ts следует анализировать как datetime64[ns]"
   ]
  },
  {
   "cell_type": "code",
   "execution_count": 4,
   "id": "1e500a43c695178b",
   "metadata": {
    "ExecuteTime": {
     "end_time": "2025-01-08T13:09:24.435976Z",
     "start_time": "2025-01-08T13:09:24.415946Z"
    }
   },
   "outputs": [
    {
     "data": {
      "text/html": [
       "<div>\n",
       "<style scoped>\n",
       "    .dataframe tbody tr th:only-of-type {\n",
       "        vertical-align: middle;\n",
       "    }\n",
       "\n",
       "    .dataframe tbody tr th {\n",
       "        vertical-align: top;\n",
       "    }\n",
       "\n",
       "    .dataframe thead th {\n",
       "        text-align: right;\n",
       "    }\n",
       "</style>\n",
       "<table border=\"1\" class=\"dataframe\">\n",
       "  <thead>\n",
       "    <tr style=\"text-align: right;\">\n",
       "      <th></th>\n",
       "      <th>uid</th>\n",
       "      <th>labname</th>\n",
       "      <th>first_commit_ts</th>\n",
       "      <th>first_view_ts</th>\n",
       "    </tr>\n",
       "  </thead>\n",
       "  <tbody>\n",
       "    <tr>\n",
       "      <th>0</th>\n",
       "      <td>user_4</td>\n",
       "      <td>project1</td>\n",
       "      <td>2020-04-17 05:19:02.744528</td>\n",
       "      <td>NaT</td>\n",
       "    </tr>\n",
       "    <tr>\n",
       "      <th>1</th>\n",
       "      <td>user_4</td>\n",
       "      <td>laba04</td>\n",
       "      <td>2020-04-17 11:33:17.366400</td>\n",
       "      <td>NaT</td>\n",
       "    </tr>\n",
       "    <tr>\n",
       "      <th>2</th>\n",
       "      <td>user_4</td>\n",
       "      <td>laba04s</td>\n",
       "      <td>2020-04-17 11:48:41.992466</td>\n",
       "      <td>NaT</td>\n",
       "    </tr>\n",
       "    <tr>\n",
       "      <th>3</th>\n",
       "      <td>user_17</td>\n",
       "      <td>project1</td>\n",
       "      <td>2020-04-18 07:56:45.408648</td>\n",
       "      <td>2020-04-18 10:56:55.833899</td>\n",
       "    </tr>\n",
       "    <tr>\n",
       "      <th>4</th>\n",
       "      <td>user_30</td>\n",
       "      <td>laba04</td>\n",
       "      <td>2020-04-18 13:36:53.971502</td>\n",
       "      <td>2020-04-17 22:46:26.785035</td>\n",
       "    </tr>\n",
       "    <tr>\n",
       "      <th>...</th>\n",
       "      <td>...</td>\n",
       "      <td>...</td>\n",
       "      <td>...</td>\n",
       "      <td>...</td>\n",
       "    </tr>\n",
       "    <tr>\n",
       "      <th>135</th>\n",
       "      <td>user_23</td>\n",
       "      <td>laba06</td>\n",
       "      <td>2020-05-21 08:34:10.517205</td>\n",
       "      <td>NaT</td>\n",
       "    </tr>\n",
       "    <tr>\n",
       "      <th>136</th>\n",
       "      <td>user_19</td>\n",
       "      <td>laba06s</td>\n",
       "      <td>2020-05-21 13:27:06.705881</td>\n",
       "      <td>2020-04-21 20:30:38.034966</td>\n",
       "    </tr>\n",
       "    <tr>\n",
       "      <th>137</th>\n",
       "      <td>user_23</td>\n",
       "      <td>laba06s</td>\n",
       "      <td>2020-05-21 14:29:15.709568</td>\n",
       "      <td>NaT</td>\n",
       "    </tr>\n",
       "    <tr>\n",
       "      <th>138</th>\n",
       "      <td>user_17</td>\n",
       "      <td>laba06</td>\n",
       "      <td>2020-05-21 15:21:31.567615</td>\n",
       "      <td>2020-04-18 10:56:55.833899</td>\n",
       "    </tr>\n",
       "    <tr>\n",
       "      <th>139</th>\n",
       "      <td>user_17</td>\n",
       "      <td>laba06s</td>\n",
       "      <td>2020-05-21 17:39:17.783615</td>\n",
       "      <td>2020-04-18 10:56:55.833899</td>\n",
       "    </tr>\n",
       "  </tbody>\n",
       "</table>\n",
       "<p>140 rows × 4 columns</p>\n",
       "</div>"
      ],
      "text/plain": [
       "         uid   labname            first_commit_ts              first_view_ts\n",
       "0     user_4  project1 2020-04-17 05:19:02.744528                        NaT\n",
       "1     user_4    laba04 2020-04-17 11:33:17.366400                        NaT\n",
       "2     user_4   laba04s 2020-04-17 11:48:41.992466                        NaT\n",
       "3    user_17  project1 2020-04-18 07:56:45.408648 2020-04-18 10:56:55.833899\n",
       "4    user_30    laba04 2020-04-18 13:36:53.971502 2020-04-17 22:46:26.785035\n",
       "..       ...       ...                        ...                        ...\n",
       "135  user_23    laba06 2020-05-21 08:34:10.517205                        NaT\n",
       "136  user_19   laba06s 2020-05-21 13:27:06.705881 2020-04-21 20:30:38.034966\n",
       "137  user_23   laba06s 2020-05-21 14:29:15.709568                        NaT\n",
       "138  user_17    laba06 2020-05-21 15:21:31.567615 2020-04-18 10:56:55.833899\n",
       "139  user_17   laba06s 2020-05-21 17:39:17.783615 2020-04-18 10:56:55.833899\n",
       "\n",
       "[140 rows x 4 columns]"
      ]
     },
     "execution_count": 4,
     "metadata": {},
     "output_type": "execute_result"
    }
   ],
   "source": [
    "query = \"\"\"\n",
    "        create table if not exists datamart as\n",
    "        select checker.uid, checker.labname, checker.timestamp as first_commit_ts,\n",
    "        pageviews.datetime as first_view_ts from checker\n",
    "        left join pageviews on pageviews.uid = checker.uid\n",
    "        where checker.uid like 'user_%' and\n",
    "        status = 'ready' and numTrials = 1 and\n",
    "        labname in ('laba04', 'laba04s', 'laba05', 'laba06', 'laba06s', 'project1')\n",
    "        and (pageviews.datetime = (select min(datetime) from pageviews where checker.uid = pageviews.uid) or pageviews.datetime is null)\n",
    "        \"\"\"\n",
    "\n",
    "conn.execute(query)\n",
    "\n",
    "datamart = pd.read_sql('select * from datamart', conn, parse_dates=['first_commit_ts', 'first_view_ts'])\n",
    "datamart"
   ]
  },
  {
   "cell_type": "markdown",
   "id": "d95ead82d3e7ff1d",
   "metadata": {},
   "source": [
    "## Используя методы Pandas, создайте два фрейма данных: тестовый и контрольный.\n",
    "\n",
    "- тест должен иметь пользователей, которые имеют значения в first_view_ts\n",
    "- элемент управления должен иметь пользователей, у которых отсутствуют значения в first_view_ts\n",
    "- замените отсутствующие значения в элементе управления средним значением first_view_ts тестовых пользователей, мы будем использовать это значение для будущего анализа\n",
    "- сохраните обе таблицы в базе данных, они вам понадобятся в следующих упражнениях."
   ]
  },
  {
   "cell_type": "code",
   "execution_count": 13,
   "id": "5c8a24ed28c5b856",
   "metadata": {
    "ExecuteTime": {
     "end_time": "2025-01-08T13:13:41.090188Z",
     "start_time": "2025-01-08T13:13:40.992988Z"
    }
   },
   "outputs": [
    {
     "name": "stdout",
     "output_type": "stream",
     "text": [
      "<class 'pandas.core.frame.DataFrame'>\n",
      "Index: 59 entries, 3 to 139\n",
      "Data columns (total 4 columns):\n",
      " #   Column           Non-Null Count  Dtype         \n",
      "---  ------           --------------  -----         \n",
      " 0   uid              59 non-null     object        \n",
      " 1   labname          59 non-null     object        \n",
      " 2   first_commit_ts  59 non-null     datetime64[ns]\n",
      " 3   first_view_ts    59 non-null     datetime64[ns]\n",
      "dtypes: datetime64[ns](2), object(2)\n",
      "memory usage: 2.3+ KB\n",
      "<class 'pandas.core.frame.DataFrame'>\n",
      "Index: 81 entries, 0 to 137\n",
      "Data columns (total 4 columns):\n",
      " #   Column           Non-Null Count  Dtype         \n",
      "---  ------           --------------  -----         \n",
      " 0   uid              81 non-null     object        \n",
      " 1   labname          81 non-null     object        \n",
      " 2   first_commit_ts  81 non-null     datetime64[ns]\n",
      " 3   first_view_ts    81 non-null     datetime64[ns]\n",
      "dtypes: datetime64[ns](2), object(2)\n",
      "memory usage: 3.2+ KB\n"
     ]
    },
    {
     "data": {
      "text/plain": [
       "81"
      ]
     },
     "execution_count": 13,
     "metadata": {},
     "output_type": "execute_result"
    }
   ],
   "source": [
    "test = datamart[datamart['first_view_ts'].notnull()]\n",
    "control = datamart[datamart['first_view_ts'].isnull()]\n",
    "control = control.fillna(test['first_view_ts'].mean())\n",
    "\n",
    "test.info()\n",
    "control.info()\n",
    "\n",
    "test.to_sql('test', conn)\n",
    "control.to_sql('control', conn)"
   ]
  },
  {
   "cell_type": "markdown",
   "id": "fadc7381716cf3c6",
   "metadata": {},
   "source": [
    "## закрыть соединение"
   ]
  },
  {
   "cell_type": "code",
   "execution_count": null,
   "id": "aa3c17768beaf4f5",
   "metadata": {},
   "outputs": [],
   "source": [
    "conn.close()"
   ]
  }
 ],
 "metadata": {
  "kernelspec": {
   "display_name": "Python 3 (ipykernel)",
   "language": "python",
   "name": "python3"
  },
  "language_info": {
   "codemirror_mode": {
    "name": "ipython",
    "version": 3
   },
   "file_extension": ".py",
   "mimetype": "text/x-python",
   "name": "python",
   "nbconvert_exporter": "python",
   "pygments_lexer": "ipython3",
   "version": "3.12.8"
  }
 },
 "nbformat": 4,
 "nbformat_minor": 5
}
