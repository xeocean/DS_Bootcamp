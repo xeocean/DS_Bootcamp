{
 "cells": [
  {
   "cell_type": "markdown",
   "id": "d8c578e8093aff1c",
   "metadata": {},
   "source": [
    "## Упражнение 03: Агрегации"
   ]
  },
  {
   "cell_type": "code",
   "execution_count": 23,
   "id": "initial_id",
   "metadata": {
    "ExecuteTime": {
     "end_time": "2025-01-08T14:22:41.168753Z",
     "start_time": "2025-01-08T14:22:41.166317Z"
    },
    "collapsed": true,
    "jupyter": {
     "outputs_hidden": true
    }
   },
   "outputs": [],
   "source": [
    "import pandas as pd\n",
    "import sqlite3"
   ]
  },
  {
   "cell_type": "markdown",
   "id": "7b6735b3053dd662",
   "metadata": {},
   "source": [
    "## создаем подключение к базе данных с помощью библиотеки sqlite3"
   ]
  },
  {
   "cell_type": "code",
   "execution_count": 24,
   "id": "7f0d667b8ceeb2cf",
   "metadata": {
    "ExecuteTime": {
     "end_time": "2025-01-08T14:22:41.196813Z",
     "start_time": "2025-01-08T14:22:41.193945Z"
    }
   },
   "outputs": [],
   "source": [
    "conn = sqlite3.connect('../data/checking-logs.sqlite')"
   ]
  },
  {
   "cell_type": "markdown",
   "id": "b486163117b7306f",
   "metadata": {},
   "source": [
    "## получить схему таблицы test"
   ]
  },
  {
   "cell_type": "code",
   "execution_count": 25,
   "id": "d0544c78aa38c529",
   "metadata": {
    "ExecuteTime": {
     "end_time": "2025-01-08T14:22:41.209754Z",
     "start_time": "2025-01-08T14:22:41.198260Z"
    }
   },
   "outputs": [
    {
     "data": {
      "text/html": [
       "<div>\n",
       "<style scoped>\n",
       "    .dataframe tbody tr th:only-of-type {\n",
       "        vertical-align: middle;\n",
       "    }\n",
       "\n",
       "    .dataframe tbody tr th {\n",
       "        vertical-align: top;\n",
       "    }\n",
       "\n",
       "    .dataframe thead th {\n",
       "        text-align: right;\n",
       "    }\n",
       "</style>\n",
       "<table border=\"1\" class=\"dataframe\">\n",
       "  <thead>\n",
       "    <tr style=\"text-align: right;\">\n",
       "      <th></th>\n",
       "      <th>cid</th>\n",
       "      <th>name</th>\n",
       "      <th>type</th>\n",
       "      <th>notnull</th>\n",
       "      <th>dflt_value</th>\n",
       "      <th>pk</th>\n",
       "    </tr>\n",
       "  </thead>\n",
       "  <tbody>\n",
       "    <tr>\n",
       "      <th>0</th>\n",
       "      <td>0</td>\n",
       "      <td>index</td>\n",
       "      <td>INTEGER</td>\n",
       "      <td>0</td>\n",
       "      <td>None</td>\n",
       "      <td>0</td>\n",
       "    </tr>\n",
       "    <tr>\n",
       "      <th>1</th>\n",
       "      <td>1</td>\n",
       "      <td>uid</td>\n",
       "      <td>TEXT</td>\n",
       "      <td>0</td>\n",
       "      <td>None</td>\n",
       "      <td>0</td>\n",
       "    </tr>\n",
       "    <tr>\n",
       "      <th>2</th>\n",
       "      <td>2</td>\n",
       "      <td>labname</td>\n",
       "      <td>TEXT</td>\n",
       "      <td>0</td>\n",
       "      <td>None</td>\n",
       "      <td>0</td>\n",
       "    </tr>\n",
       "    <tr>\n",
       "      <th>3</th>\n",
       "      <td>3</td>\n",
       "      <td>first_commit_ts</td>\n",
       "      <td>TIMESTAMP</td>\n",
       "      <td>0</td>\n",
       "      <td>None</td>\n",
       "      <td>0</td>\n",
       "    </tr>\n",
       "    <tr>\n",
       "      <th>4</th>\n",
       "      <td>4</td>\n",
       "      <td>first_view_ts</td>\n",
       "      <td>TIMESTAMP</td>\n",
       "      <td>0</td>\n",
       "      <td>None</td>\n",
       "      <td>0</td>\n",
       "    </tr>\n",
       "  </tbody>\n",
       "</table>\n",
       "</div>"
      ],
      "text/plain": [
       "   cid             name       type  notnull dflt_value  pk\n",
       "0    0            index    INTEGER        0       None   0\n",
       "1    1              uid       TEXT        0       None   0\n",
       "2    2          labname       TEXT        0       None   0\n",
       "3    3  first_commit_ts  TIMESTAMP        0       None   0\n",
       "4    4    first_view_ts  TIMESTAMP        0       None   0"
      ]
     },
     "execution_count": 25,
     "metadata": {},
     "output_type": "execute_result"
    }
   ],
   "source": [
    "pd.read_sql('pragma table_info(test)', conn)"
   ]
  },
  {
   "cell_type": "markdown",
   "id": "75a146f54cf67742",
   "metadata": {},
   "source": [
    "## получить только первые 10 строк таблицы test, чтобы проверить, как выглядит таблица"
   ]
  },
  {
   "cell_type": "code",
   "execution_count": 26,
   "id": "99a45ac5d38d8370",
   "metadata": {
    "ExecuteTime": {
     "end_time": "2025-01-08T14:22:41.218415Z",
     "start_time": "2025-01-08T14:22:41.211371Z"
    }
   },
   "outputs": [
    {
     "data": {
      "text/html": [
       "<div>\n",
       "<style scoped>\n",
       "    .dataframe tbody tr th:only-of-type {\n",
       "        vertical-align: middle;\n",
       "    }\n",
       "\n",
       "    .dataframe tbody tr th {\n",
       "        vertical-align: top;\n",
       "    }\n",
       "\n",
       "    .dataframe thead th {\n",
       "        text-align: right;\n",
       "    }\n",
       "</style>\n",
       "<table border=\"1\" class=\"dataframe\">\n",
       "  <thead>\n",
       "    <tr style=\"text-align: right;\">\n",
       "      <th></th>\n",
       "      <th>index</th>\n",
       "      <th>uid</th>\n",
       "      <th>labname</th>\n",
       "      <th>first_commit_ts</th>\n",
       "      <th>first_view_ts</th>\n",
       "    </tr>\n",
       "  </thead>\n",
       "  <tbody>\n",
       "    <tr>\n",
       "      <th>0</th>\n",
       "      <td>3</td>\n",
       "      <td>user_17</td>\n",
       "      <td>project1</td>\n",
       "      <td>2020-04-18 07:56:45.408648</td>\n",
       "      <td>2020-04-18 10:56:55.833899</td>\n",
       "    </tr>\n",
       "    <tr>\n",
       "      <th>1</th>\n",
       "      <td>4</td>\n",
       "      <td>user_30</td>\n",
       "      <td>laba04</td>\n",
       "      <td>2020-04-18 13:36:53.971502</td>\n",
       "      <td>2020-04-17 22:46:26.785035</td>\n",
       "    </tr>\n",
       "    <tr>\n",
       "      <th>2</th>\n",
       "      <td>7</td>\n",
       "      <td>user_30</td>\n",
       "      <td>laba04s</td>\n",
       "      <td>2020-04-18 14:51:37.498399</td>\n",
       "      <td>2020-04-17 22:46:26.785035</td>\n",
       "    </tr>\n",
       "    <tr>\n",
       "      <th>3</th>\n",
       "      <td>8</td>\n",
       "      <td>user_14</td>\n",
       "      <td>laba04</td>\n",
       "      <td>2020-04-18 15:14:00.312338</td>\n",
       "      <td>2020-04-18 10:53:52.623447</td>\n",
       "    </tr>\n",
       "    <tr>\n",
       "      <th>4</th>\n",
       "      <td>11</td>\n",
       "      <td>user_14</td>\n",
       "      <td>laba04s</td>\n",
       "      <td>2020-04-18 22:30:30.247628</td>\n",
       "      <td>2020-04-18 10:53:52.623447</td>\n",
       "    </tr>\n",
       "    <tr>\n",
       "      <th>5</th>\n",
       "      <td>18</td>\n",
       "      <td>user_19</td>\n",
       "      <td>laba04</td>\n",
       "      <td>2020-04-20 19:05:01.297780</td>\n",
       "      <td>2020-04-21 20:30:38.034966</td>\n",
       "    </tr>\n",
       "    <tr>\n",
       "      <th>6</th>\n",
       "      <td>19</td>\n",
       "      <td>user_25</td>\n",
       "      <td>laba04</td>\n",
       "      <td>2020-04-20 19:16:50.673054</td>\n",
       "      <td>2020-05-09 23:54:54.260791</td>\n",
       "    </tr>\n",
       "    <tr>\n",
       "      <th>7</th>\n",
       "      <td>20</td>\n",
       "      <td>user_21</td>\n",
       "      <td>laba04</td>\n",
       "      <td>2020-04-21 17:48:00.487806</td>\n",
       "      <td>2020-04-22 22:40:36.824081</td>\n",
       "    </tr>\n",
       "    <tr>\n",
       "      <th>8</th>\n",
       "      <td>21</td>\n",
       "      <td>user_30</td>\n",
       "      <td>project1</td>\n",
       "      <td>2020-04-22 12:36:24.053518</td>\n",
       "      <td>2020-04-17 22:46:26.785035</td>\n",
       "    </tr>\n",
       "    <tr>\n",
       "      <th>9</th>\n",
       "      <td>23</td>\n",
       "      <td>user_21</td>\n",
       "      <td>laba04s</td>\n",
       "      <td>2020-04-22 20:09:21.857747</td>\n",
       "      <td>2020-04-22 22:40:36.824081</td>\n",
       "    </tr>\n",
       "  </tbody>\n",
       "</table>\n",
       "</div>"
      ],
      "text/plain": [
       "   index      uid   labname             first_commit_ts  \\\n",
       "0      3  user_17  project1  2020-04-18 07:56:45.408648   \n",
       "1      4  user_30    laba04  2020-04-18 13:36:53.971502   \n",
       "2      7  user_30   laba04s  2020-04-18 14:51:37.498399   \n",
       "3      8  user_14    laba04  2020-04-18 15:14:00.312338   \n",
       "4     11  user_14   laba04s  2020-04-18 22:30:30.247628   \n",
       "5     18  user_19    laba04  2020-04-20 19:05:01.297780   \n",
       "6     19  user_25    laba04  2020-04-20 19:16:50.673054   \n",
       "7     20  user_21    laba04  2020-04-21 17:48:00.487806   \n",
       "8     21  user_30  project1  2020-04-22 12:36:24.053518   \n",
       "9     23  user_21   laba04s  2020-04-22 20:09:21.857747   \n",
       "\n",
       "                first_view_ts  \n",
       "0  2020-04-18 10:56:55.833899  \n",
       "1  2020-04-17 22:46:26.785035  \n",
       "2  2020-04-17 22:46:26.785035  \n",
       "3  2020-04-18 10:53:52.623447  \n",
       "4  2020-04-18 10:53:52.623447  \n",
       "5  2020-04-21 20:30:38.034966  \n",
       "6  2020-05-09 23:54:54.260791  \n",
       "7  2020-04-22 22:40:36.824081  \n",
       "8  2020-04-17 22:46:26.785035  \n",
       "9  2020-04-22 22:40:36.824081  "
      ]
     },
     "execution_count": 26,
     "metadata": {},
     "output_type": "execute_result"
    }
   ],
   "source": [
    "pd.read_sql('select * from test limit 10;', conn)"
   ]
  },
  {
   "cell_type": "markdown",
   "id": "f49c8b27329517cb",
   "metadata": {},
   "source": [
    "## найти среди всех пользователей минимальное значение дельты между первым коммитом пользователя и крайним сроком соответствующей лабораторной работы, используя только один запрос\n",
    "\n",
    "- сделайте это, присоединившись к таблице с крайними сроками\n",
    "- разница должна отображаться в часах\n",
    "- не принимайте во внимание лабораторную работу «проект 1», у нее более длительные сроки выполнения, и она будет выделяться\n",
    "- значение должно быть сохранено в фрейме данных df_min с соответствующим uid"
   ]
  },
  {
   "cell_type": "code",
   "execution_count": 27,
   "id": "7bcce007d03e6701",
   "metadata": {
    "ExecuteTime": {
     "end_time": "2025-01-08T14:22:41.225187Z",
     "start_time": "2025-01-08T14:22:41.219168Z"
    }
   },
   "outputs": [
    {
     "data": {
      "text/html": [
       "<div>\n",
       "<style scoped>\n",
       "    .dataframe tbody tr th:only-of-type {\n",
       "        vertical-align: middle;\n",
       "    }\n",
       "\n",
       "    .dataframe tbody tr th {\n",
       "        vertical-align: top;\n",
       "    }\n",
       "\n",
       "    .dataframe thead th {\n",
       "        text-align: right;\n",
       "    }\n",
       "</style>\n",
       "<table border=\"1\" class=\"dataframe\">\n",
       "  <thead>\n",
       "    <tr style=\"text-align: right;\">\n",
       "      <th></th>\n",
       "      <th>uid</th>\n",
       "      <th>min_deadline</th>\n",
       "    </tr>\n",
       "  </thead>\n",
       "  <tbody>\n",
       "    <tr>\n",
       "      <th>0</th>\n",
       "      <td>user_25</td>\n",
       "      <td>2</td>\n",
       "    </tr>\n",
       "  </tbody>\n",
       "</table>\n",
       "</div>"
      ],
      "text/plain": [
       "       uid  min_deadline\n",
       "0  user_25             2"
      ]
     },
     "execution_count": 27,
     "metadata": {},
     "output_type": "execute_result"
    }
   ],
   "source": [
    "query = \"\"\"\n",
    "        select uid, min(delta) as min_deadline from (\n",
    "        select uid, first_commit_ts, datetime(deadlines.deadlines, 'unixepoch'),\n",
    "               (deadlines - unixepoch(first_commit_ts)) / 3600 as delta\n",
    "        from test\n",
    "        join deadlines on deadlines.labs = test.labname\n",
    "        where labname != 'project1')\n",
    "        \"\"\"\n",
    "\n",
    "df_min = pd.read_sql(query, conn)\n",
    "df_min"
   ]
  },
  {
   "cell_type": "markdown",
   "id": "ccd3f83216e9e724",
   "metadata": {},
   "source": [
    "## сделайте то же самое, но для максимума, используя только один запрос, имя dataframe будет df_max"
   ]
  },
  {
   "cell_type": "code",
   "execution_count": 28,
   "id": "b4cb416643e73637",
   "metadata": {
    "ExecuteTime": {
     "end_time": "2025-01-08T14:22:41.233291Z",
     "start_time": "2025-01-08T14:22:41.227033Z"
    }
   },
   "outputs": [
    {
     "data": {
      "text/html": [
       "<div>\n",
       "<style scoped>\n",
       "    .dataframe tbody tr th:only-of-type {\n",
       "        vertical-align: middle;\n",
       "    }\n",
       "\n",
       "    .dataframe tbody tr th {\n",
       "        vertical-align: top;\n",
       "    }\n",
       "\n",
       "    .dataframe thead th {\n",
       "        text-align: right;\n",
       "    }\n",
       "</style>\n",
       "<table border=\"1\" class=\"dataframe\">\n",
       "  <thead>\n",
       "    <tr style=\"text-align: right;\">\n",
       "      <th></th>\n",
       "      <th>uid</th>\n",
       "      <th>max_deadline</th>\n",
       "    </tr>\n",
       "  </thead>\n",
       "  <tbody>\n",
       "    <tr>\n",
       "      <th>0</th>\n",
       "      <td>user_30</td>\n",
       "      <td>202</td>\n",
       "    </tr>\n",
       "  </tbody>\n",
       "</table>\n",
       "</div>"
      ],
      "text/plain": [
       "       uid  max_deadline\n",
       "0  user_30           202"
      ]
     },
     "execution_count": 28,
     "metadata": {},
     "output_type": "execute_result"
    }
   ],
   "source": [
    "query = \"\"\"\n",
    "        select uid, max(delta) as max_deadline from (\n",
    "        select uid, first_commit_ts, datetime(deadlines.deadlines, 'unixepoch'),\n",
    "               (deadlines - unixepoch(first_commit_ts)) / 3600 as delta\n",
    "        from test\n",
    "        join deadlines on deadlines.labs = test.labname\n",
    "        where labname != 'project1')\n",
    "        \"\"\"\n",
    "\n",
    "df_max = pd.read_sql(query, conn)\n",
    "df_max"
   ]
  },
  {
   "cell_type": "markdown",
   "id": "d1625a144a9d0c72",
   "metadata": {},
   "source": [
    "## сделайте то же самое, но для среднего значения, используя только один запрос, на этот раз ваш фрейм данных не должен включать столбец uid, а имя фрейма данных — df_avg"
   ]
  },
  {
   "cell_type": "code",
   "execution_count": 29,
   "id": "519ea76353d3c0fc",
   "metadata": {
    "ExecuteTime": {
     "end_time": "2025-01-08T14:22:41.242329Z",
     "start_time": "2025-01-08T14:22:41.234372Z"
    }
   },
   "outputs": [
    {
     "data": {
      "text/html": [
       "<div>\n",
       "<style scoped>\n",
       "    .dataframe tbody tr th:only-of-type {\n",
       "        vertical-align: middle;\n",
       "    }\n",
       "\n",
       "    .dataframe tbody tr th {\n",
       "        vertical-align: top;\n",
       "    }\n",
       "\n",
       "    .dataframe thead th {\n",
       "        text-align: right;\n",
       "    }\n",
       "</style>\n",
       "<table border=\"1\" class=\"dataframe\">\n",
       "  <thead>\n",
       "    <tr style=\"text-align: right;\">\n",
       "      <th></th>\n",
       "      <th>avg_deadline</th>\n",
       "    </tr>\n",
       "  </thead>\n",
       "  <tbody>\n",
       "    <tr>\n",
       "      <th>0</th>\n",
       "      <td>89.125</td>\n",
       "    </tr>\n",
       "  </tbody>\n",
       "</table>\n",
       "</div>"
      ],
      "text/plain": [
       "   avg_deadline\n",
       "0        89.125"
      ]
     },
     "execution_count": 29,
     "metadata": {},
     "output_type": "execute_result"
    }
   ],
   "source": [
    "query = \"\"\"\n",
    "        select avg(delta) as avg_deadline from (\n",
    "        select uid, first_commit_ts, datetime(deadlines.deadlines, 'unixepoch'),\n",
    "               (deadlines - unixepoch(first_commit_ts)) / 3600 as delta\n",
    "        from test\n",
    "        join deadlines on deadlines.labs = test.labname\n",
    "        where labname != 'project1')\n",
    "        \"\"\"\n",
    "\n",
    "df_avg = pd.read_sql(query, conn)\n",
    "df_avg"
   ]
  },
  {
   "cell_type": "markdown",
   "id": "3fd0d79584d4866b",
   "metadata": {},
   "source": [
    "## мы хотим проверить гипотезу о том, что пользователи, которые посетили новостную ленту всего несколько раз, имеют более низкую дельту между первым коммитом и дедлайном. Для этого нужно рассчитать коэффициент корреляции между количеством просмотров страниц и разницей\n",
    "\n",
    "- Используя только один запрос, создайте таблицу со столбцами: uid, avg_diff, pageviews\n",
    "uid — это uid, которые существуют в тесте\n",
    "- avg_diff — это средняя разница между первым коммитом и крайним сроком выполнения лабораторных работ на пользователя.\n",
    "- просмотры страниц — это количество посещений новостной ленты на одного пользователя\n",
    "- не принимайте во внимание лабораторную работу «проект1»\n",
    "- сохраните его в dataframe views_diff\n",
    "- используйте метод Pandas corr() для расчета коэффициента корреляции между количеством просмотров страниц и разницей"
   ]
  },
  {
   "cell_type": "code",
   "execution_count": 30,
   "id": "55a93b8dbc5255",
   "metadata": {
    "ExecuteTime": {
     "end_time": "2025-01-08T14:22:41.254303Z",
     "start_time": "2025-01-08T14:22:41.243619Z"
    }
   },
   "outputs": [
    {
     "name": "stdout",
     "output_type": "stream",
     "text": [
      "         avg_diff  pageviews\n",
      "uid                         \n",
      "user_1      64.40         28\n",
      "user_10     74.80         89\n",
      "user_14    159.00        143\n",
      "user_17     61.60         47\n",
      "user_18      5.67          3\n",
      "user_19     98.75         16\n",
      "user_21     95.50         10\n",
      "user_25     92.60        179\n",
      "user_28     86.40        149\n",
      "user_3     105.40        317\n",
      "user_30    145.25          3\n"
     ]
    },
    {
     "data": {
      "text/html": [
       "<div>\n",
       "<style scoped>\n",
       "    .dataframe tbody tr th:only-of-type {\n",
       "        vertical-align: middle;\n",
       "    }\n",
       "\n",
       "    .dataframe tbody tr th {\n",
       "        vertical-align: top;\n",
       "    }\n",
       "\n",
       "    .dataframe thead th {\n",
       "        text-align: right;\n",
       "    }\n",
       "</style>\n",
       "<table border=\"1\" class=\"dataframe\">\n",
       "  <thead>\n",
       "    <tr style=\"text-align: right;\">\n",
       "      <th></th>\n",
       "      <th>avg_diff</th>\n",
       "      <th>pageviews</th>\n",
       "    </tr>\n",
       "  </thead>\n",
       "  <tbody>\n",
       "    <tr>\n",
       "      <th>avg_diff</th>\n",
       "      <td>1.000000</td>\n",
       "      <td>0.279734</td>\n",
       "    </tr>\n",
       "    <tr>\n",
       "      <th>pageviews</th>\n",
       "      <td>0.279734</td>\n",
       "      <td>1.000000</td>\n",
       "    </tr>\n",
       "  </tbody>\n",
       "</table>\n",
       "</div>"
      ],
      "text/plain": [
       "           avg_diff  pageviews\n",
       "avg_diff   1.000000   0.279734\n",
       "pageviews  0.279734   1.000000"
      ]
     },
     "execution_count": 30,
     "metadata": {},
     "output_type": "execute_result"
    }
   ],
   "source": [
    "query = \"\"\"\n",
    "        select uid, round(avg(delta), 2) as avg_diff, max(page_views) as pageviews from (\n",
    "        select uid, first_commit_ts, datetime(deadlines.deadlines, 'unixepoch'),\n",
    "               (deadlines - unixepoch(first_commit_ts)) / 3600 as delta,\n",
    "               (select count(*) from pageviews\n",
    "                where test.uid = pageviews.uid) as page_views\n",
    "        from test\n",
    "        join deadlines on deadlines.labs = test.labname\n",
    "        where labname != 'project1')\n",
    "        group by uid\n",
    "        \"\"\"\n",
    "\n",
    "views_diff = pd.read_sql(query, conn)\n",
    "views_diff.set_index('uid', inplace=True)\n",
    "\n",
    "print(views_diff)\n",
    "views_diff.corr()"
   ]
  },
  {
   "cell_type": "markdown",
   "id": "86fa96c2a9158d09",
   "metadata": {},
   "source": [
    "## закрыть соединение"
   ]
  },
  {
   "cell_type": "code",
   "execution_count": 31,
   "id": "18d23b8e53d9f722",
   "metadata": {
    "ExecuteTime": {
     "end_time": "2025-01-08T14:22:41.267228Z",
     "start_time": "2025-01-08T14:22:41.265008Z"
    }
   },
   "outputs": [],
   "source": [
    "conn.close()"
   ]
  }
 ],
 "metadata": {
  "kernelspec": {
   "display_name": "Python 3 (ipykernel)",
   "language": "python",
   "name": "python3"
  },
  "language_info": {
   "codemirror_mode": {
    "name": "ipython",
    "version": 3
   },
   "file_extension": ".py",
   "mimetype": "text/x-python",
   "name": "python",
   "nbconvert_exporter": "python",
   "pygments_lexer": "ipython3",
   "version": "3.12.8"
  }
 },
 "nbformat": 4,
 "nbformat_minor": 5
}
