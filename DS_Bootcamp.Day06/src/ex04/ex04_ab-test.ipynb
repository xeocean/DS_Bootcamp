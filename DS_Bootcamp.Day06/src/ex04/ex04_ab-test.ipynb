{
 "cells": [
  {
   "cell_type": "markdown",
   "id": "30254f2497eb952f",
   "metadata": {},
   "source": [
    "## Упражнение 04: A/B-тестирование"
   ]
  },
  {
   "cell_type": "code",
   "execution_count": 13,
   "id": "7e1971538575816b",
   "metadata": {
    "ExecuteTime": {
     "end_time": "2025-01-08T15:50:03.340998Z",
     "start_time": "2025-01-08T15:50:03.338059Z"
    }
   },
   "outputs": [],
   "source": [
    "import pandas as pd\n",
    "import sqlite3"
   ]
  },
  {
   "cell_type": "markdown",
   "id": "572aa506aeba330",
   "metadata": {},
   "source": [
    "## создаем подключение к базе данных с помощью библиотеки sqlite3"
   ]
  },
  {
   "cell_type": "code",
   "execution_count": 14,
   "id": "3333e1984024a5f4",
   "metadata": {
    "ExecuteTime": {
     "end_time": "2025-01-08T15:50:03.349529Z",
     "start_time": "2025-01-08T15:50:03.342528Z"
    }
   },
   "outputs": [],
   "source": [
    "conn = sqlite3.connect('../data/checking-logs.sqlite')"
   ]
  },
  {
   "cell_type": "markdown",
   "id": "7e56da92d3a7f54a",
   "metadata": {},
   "source": [
    "## используя только один запрос для каждой из групп, создайте два фрейма данных: test_results и control_results со столбцами time и avg_diff и только двумя строками\n",
    "\n",
    "- время должно иметь значения: после и до\n",
    "- avg_diff содержит среднюю дельту среди всех пользователей за период времени до того, как каждый из них совершил свой первый визит на страницу, и после этого\n",
    "- учитывать только тех пользователей, у которых есть наблюдения до и после"
   ]
  },
  {
   "cell_type": "code",
   "execution_count": 15,
   "id": "b8a487cbc4d09503",
   "metadata": {
    "ExecuteTime": {
     "end_time": "2025-01-08T15:50:03.360737Z",
     "start_time": "2025-01-08T15:50:03.350565Z"
    }
   },
   "outputs": [
    {
     "data": {
      "text/html": [
       "<div>\n",
       "<style scoped>\n",
       "    .dataframe tbody tr th:only-of-type {\n",
       "        vertical-align: middle;\n",
       "    }\n",
       "\n",
       "    .dataframe tbody tr th {\n",
       "        vertical-align: top;\n",
       "    }\n",
       "\n",
       "    .dataframe thead th {\n",
       "        text-align: right;\n",
       "    }\n",
       "</style>\n",
       "<table border=\"1\" class=\"dataframe\">\n",
       "  <thead>\n",
       "    <tr style=\"text-align: right;\">\n",
       "      <th></th>\n",
       "      <th>time</th>\n",
       "      <th>avg_diff</th>\n",
       "    </tr>\n",
       "  </thead>\n",
       "  <tbody>\n",
       "    <tr>\n",
       "      <th>0</th>\n",
       "      <td>after</td>\n",
       "      <td>103.40625</td>\n",
       "    </tr>\n",
       "    <tr>\n",
       "      <th>1</th>\n",
       "      <td>before</td>\n",
       "      <td>60.56250</td>\n",
       "    </tr>\n",
       "  </tbody>\n",
       "</table>\n",
       "</div>"
      ],
      "text/plain": [
       "     time   avg_diff\n",
       "0   after  103.40625\n",
       "1  before   60.56250"
      ]
     },
     "execution_count": 15,
     "metadata": {},
     "output_type": "execute_result"
    }
   ],
   "source": [
    "query = \"\"\"\n",
    "        with all_delts as\n",
    "        (select uid, first_view_ts, first_commit_ts,\n",
    "        datetime(deadlines.deadlines, 'unixepoch')      as deadline,\n",
    "        (deadlines - unixepoch(first_commit_ts)) / 3600 as delta_commit_deadline,\n",
    "        case\n",
    "            when first_view_ts <= first_commit_ts then 'after'\n",
    "            else 'before' end as time\n",
    "        from test\n",
    "        join deadlines on deadlines.labs = test.labname\n",
    "        where labname != 'project1')\n",
    "        select time, avg(delta_commit_deadline) as avg_diff from all_delts\n",
    "        group by time\n",
    "        \"\"\"\n",
    "\n",
    "test_results = pd.read_sql(query, conn)\n",
    "test_results"
   ]
  },
  {
   "cell_type": "code",
   "execution_count": 16,
   "id": "a3db30b2bdbeb85f",
   "metadata": {
    "ExecuteTime": {
     "end_time": "2025-01-08T15:50:03.368990Z",
     "start_time": "2025-01-08T15:50:03.361812Z"
    }
   },
   "outputs": [
    {
     "data": {
      "text/html": [
       "<div>\n",
       "<style scoped>\n",
       "    .dataframe tbody tr th:only-of-type {\n",
       "        vertical-align: middle;\n",
       "    }\n",
       "\n",
       "    .dataframe tbody tr th {\n",
       "        vertical-align: top;\n",
       "    }\n",
       "\n",
       "    .dataframe thead th {\n",
       "        text-align: right;\n",
       "    }\n",
       "</style>\n",
       "<table border=\"1\" class=\"dataframe\">\n",
       "  <thead>\n",
       "    <tr style=\"text-align: right;\">\n",
       "      <th></th>\n",
       "      <th>time</th>\n",
       "      <th>avg_diff</th>\n",
       "    </tr>\n",
       "  </thead>\n",
       "  <tbody>\n",
       "    <tr>\n",
       "      <th>0</th>\n",
       "      <td>after</td>\n",
       "      <td>112.710526</td>\n",
       "    </tr>\n",
       "    <tr>\n",
       "      <th>1</th>\n",
       "      <td>before</td>\n",
       "      <td>99.464286</td>\n",
       "    </tr>\n",
       "  </tbody>\n",
       "</table>\n",
       "</div>"
      ],
      "text/plain": [
       "     time    avg_diff\n",
       "0   after  112.710526\n",
       "1  before   99.464286"
      ]
     },
     "execution_count": 16,
     "metadata": {},
     "output_type": "execute_result"
    }
   ],
   "source": [
    "query = \"\"\"\n",
    "        with all_delts as\n",
    "        (select uid, first_view_ts, first_commit_ts,\n",
    "        datetime(deadlines.deadlines, 'unixepoch')      as deadline,\n",
    "        (deadlines - unixepoch(first_commit_ts)) / 3600 as delta_commit_deadline,\n",
    "        case\n",
    "            when first_view_ts <= first_commit_ts then 'after'\n",
    "            else 'before' end as time\n",
    "        from control\n",
    "        join deadlines on deadlines.labs = control.labname\n",
    "        where labname != 'project1')\n",
    "        select time, avg(delta_commit_deadline) as avg_diff from all_delts\n",
    "        group by time\n",
    "        \"\"\"\n",
    "\n",
    "control_results = pd.read_sql(query, conn)\n",
    "control_results"
   ]
  },
  {
   "cell_type": "markdown",
   "id": "e5bf089537b8c545",
   "metadata": {},
   "source": [
    "## закрыть соединение"
   ]
  },
  {
   "cell_type": "code",
   "execution_count": 17,
   "id": "732f815000c1fc2e",
   "metadata": {
    "ExecuteTime": {
     "end_time": "2025-01-08T15:50:03.376779Z",
     "start_time": "2025-01-08T15:50:03.369889Z"
    }
   },
   "outputs": [],
   "source": [
    "conn.close()"
   ]
  }
 ],
 "metadata": {
  "kernelspec": {
   "display_name": "Python 3 (ipykernel)",
   "language": "python",
   "name": "python3"
  },
  "language_info": {
   "codemirror_mode": {
    "name": "ipython",
    "version": 3
   },
   "file_extension": ".py",
   "mimetype": "text/x-python",
   "name": "python",
   "nbconvert_exporter": "python",
   "pygments_lexer": "ipython3",
   "version": "3.12.8"
  }
 },
 "nbformat": 4,
 "nbformat_minor": 5
}
