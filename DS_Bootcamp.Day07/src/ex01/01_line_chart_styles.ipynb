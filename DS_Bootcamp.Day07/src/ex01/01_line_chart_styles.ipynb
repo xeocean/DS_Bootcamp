{
 "cells": [
  {
   "cell_type": "markdown",
   "id": "e947df37d1431730",
   "metadata": {},
   "source": [
    "## Exercise 01 : Line chart with styles"
   ]
  },
  {
   "cell_type": "code",
   "execution_count": 1,
   "id": "initial_id",
   "metadata": {
    "ExecuteTime": {
     "end_time": "2025-01-12T13:52:23.461709Z",
     "start_time": "2025-01-12T13:52:23.241478Z"
    },
    "collapsed": true,
    "jupyter": {
     "outputs_hidden": true
    }
   },
   "outputs": [],
   "source": [
    "import pandas as pd\n",
    "import sqlite3"
   ]
  },
  {
   "cell_type": "code",
   "execution_count": 2,
   "id": "29de4a88d7462602",
   "metadata": {
    "ExecuteTime": {
     "end_time": "2025-01-12T13:52:47.385340Z",
     "start_time": "2025-01-12T13:52:47.380554Z"
    }
   },
   "outputs": [],
   "source": [
    "conn = sqlite3.connect('../data/checking-logs.sqlite')"
   ]
  },
  {
   "cell_type": "code",
   "execution_count": 24,
   "id": "cd174f70af26ea4b",
   "metadata": {
    "ExecuteTime": {
     "end_time": "2025-01-12T14:08:47.895318Z",
     "start_time": "2025-01-12T14:08:47.858785Z"
    }
   },
   "outputs": [
    {
     "data": {
      "text/plain": [
       "date\n",
       "2020-04-17      1\n",
       "2020-04-18     23\n",
       "2020-04-19     15\n",
       "2020-04-21      3\n",
       "2020-04-22      1\n",
       "2020-04-23      5\n",
       "2020-04-25      1\n",
       "2020-04-26      8\n",
       "2020-04-28      2\n",
       "2020-04-29      4\n",
       "2020-04-30      9\n",
       "2020-05-01      3\n",
       "2020-05-02      6\n",
       "2020-05-03     19\n",
       "2020-05-04      1\n",
       "2020-05-05      1\n",
       "2020-05-06      3\n",
       "2020-05-07      2\n",
       "2020-05-08     48\n",
       "2020-05-09     19\n",
       "2020-05-10    110\n",
       "2020-05-11    200\n",
       "2020-05-12     85\n",
       "2020-05-13    102\n",
       "2020-05-14    187\n",
       "2020-05-15     29\n",
       "2020-05-16      4\n",
       "2020-05-17      9\n",
       "2020-05-18     51\n",
       "2020-05-19     11\n",
       "2020-05-20     12\n",
       "2020-05-21     11\n",
       "2020-05-22      2\n",
       "Name: view, dtype: int64"
      ]
     },
     "execution_count": 24,
     "metadata": {},
     "output_type": "execute_result"
    }
   ],
   "source": [
    "query = \"\"\"\n",
    "        select * from pageviews\n",
    "        where uid like 'user_%'\n",
    "        \"\"\"\n",
    "\n",
    "df_view = pd.read_sql(query, conn, parse_dates='datetime')\n",
    "df_view = df_view.groupby(df_view['datetime'].dt.date).count()\n",
    "df_view = df_view['uid'].rename('view')\n",
    "df_view.index.name = 'date'\n",
    "df_view"
   ]
  },
  {
   "cell_type": "code",
   "execution_count": 29,
   "id": "181490673118ede",
   "metadata": {
    "ExecuteTime": {
     "end_time": "2025-01-12T14:10:39.502577Z",
     "start_time": "2025-01-12T14:10:39.481844Z"
    }
   },
   "outputs": [
    {
     "data": {
      "text/plain": [
       "date\n",
       "2020-04-17     23\n",
       "2020-04-18     69\n",
       "2020-04-19     33\n",
       "2020-04-20     25\n",
       "2020-04-21     25\n",
       "2020-04-22     28\n",
       "2020-04-23     43\n",
       "2020-04-24     16\n",
       "2020-04-25    104\n",
       "2020-04-26    261\n",
       "2020-04-27      6\n",
       "2020-04-28      5\n",
       "2020-04-29     17\n",
       "2020-04-30     53\n",
       "2020-05-01     60\n",
       "2020-05-02    242\n",
       "2020-05-03    180\n",
       "2020-05-04     37\n",
       "2020-05-05    139\n",
       "2020-05-06      2\n",
       "2020-05-07     52\n",
       "2020-05-08     87\n",
       "2020-05-09     86\n",
       "2020-05-10    143\n",
       "2020-05-11    186\n",
       "2020-05-12    323\n",
       "2020-05-13    211\n",
       "2020-05-14    575\n",
       "2020-05-15     10\n",
       "2020-05-16      4\n",
       "2020-05-17     48\n",
       "2020-05-18      3\n",
       "2020-05-19     34\n",
       "2020-05-20     28\n",
       "2020-05-21     49\n",
       "Name: commit, dtype: int64"
      ]
     },
     "execution_count": 29,
     "metadata": {},
     "output_type": "execute_result"
    }
   ],
   "source": [
    "query = \"\"\"\n",
    "        select * from checker\n",
    "        where uid like 'user_%'\n",
    "        \"\"\"\n",
    "\n",
    "df_checker = pd.read_sql(query, conn, parse_dates='timestamp')\n",
    "df_checker = df_checker.groupby(df_checker['timestamp'].dt.date).count()\n",
    "df_checker = df_checker['uid'].rename('commit')\n",
    "df_checker.index.name = 'date'\n",
    "df_checker"
   ]
  },
  {
   "cell_type": "code",
   "execution_count": 43,
   "id": "a682aa70d58f089e",
   "metadata": {
    "ExecuteTime": {
     "end_time": "2025-01-12T14:16:13.339956Z",
     "start_time": "2025-01-12T14:16:13.323591Z"
    }
   },
   "outputs": [
    {
     "data": {
      "text/html": [
       "<div>\n",
       "<style scoped>\n",
       "    .dataframe tbody tr th:only-of-type {\n",
       "        vertical-align: middle;\n",
       "    }\n",
       "\n",
       "    .dataframe tbody tr th {\n",
       "        vertical-align: top;\n",
       "    }\n",
       "\n",
       "    .dataframe thead th {\n",
       "        text-align: right;\n",
       "    }\n",
       "</style>\n",
       "<table border=\"1\" class=\"dataframe\">\n",
       "  <thead>\n",
       "    <tr style=\"text-align: right;\">\n",
       "      <th></th>\n",
       "      <th>date</th>\n",
       "      <th>view</th>\n",
       "      <th>commit</th>\n",
       "    </tr>\n",
       "  </thead>\n",
       "  <tbody>\n",
       "    <tr>\n",
       "      <th>0</th>\n",
       "      <td>2020-04-17</td>\n",
       "      <td>1</td>\n",
       "      <td>23</td>\n",
       "    </tr>\n",
       "    <tr>\n",
       "      <th>1</th>\n",
       "      <td>2020-04-18</td>\n",
       "      <td>23</td>\n",
       "      <td>69</td>\n",
       "    </tr>\n",
       "    <tr>\n",
       "      <th>2</th>\n",
       "      <td>2020-04-19</td>\n",
       "      <td>15</td>\n",
       "      <td>33</td>\n",
       "    </tr>\n",
       "    <tr>\n",
       "      <th>3</th>\n",
       "      <td>2020-04-21</td>\n",
       "      <td>3</td>\n",
       "      <td>25</td>\n",
       "    </tr>\n",
       "    <tr>\n",
       "      <th>4</th>\n",
       "      <td>2020-04-22</td>\n",
       "      <td>1</td>\n",
       "      <td>28</td>\n",
       "    </tr>\n",
       "    <tr>\n",
       "      <th>5</th>\n",
       "      <td>2020-04-23</td>\n",
       "      <td>5</td>\n",
       "      <td>43</td>\n",
       "    </tr>\n",
       "    <tr>\n",
       "      <th>6</th>\n",
       "      <td>2020-04-25</td>\n",
       "      <td>1</td>\n",
       "      <td>104</td>\n",
       "    </tr>\n",
       "    <tr>\n",
       "      <th>7</th>\n",
       "      <td>2020-04-26</td>\n",
       "      <td>8</td>\n",
       "      <td>261</td>\n",
       "    </tr>\n",
       "    <tr>\n",
       "      <th>8</th>\n",
       "      <td>2020-04-28</td>\n",
       "      <td>2</td>\n",
       "      <td>5</td>\n",
       "    </tr>\n",
       "    <tr>\n",
       "      <th>9</th>\n",
       "      <td>2020-04-29</td>\n",
       "      <td>4</td>\n",
       "      <td>17</td>\n",
       "    </tr>\n",
       "    <tr>\n",
       "      <th>10</th>\n",
       "      <td>2020-04-30</td>\n",
       "      <td>9</td>\n",
       "      <td>53</td>\n",
       "    </tr>\n",
       "    <tr>\n",
       "      <th>11</th>\n",
       "      <td>2020-05-01</td>\n",
       "      <td>3</td>\n",
       "      <td>60</td>\n",
       "    </tr>\n",
       "    <tr>\n",
       "      <th>12</th>\n",
       "      <td>2020-05-02</td>\n",
       "      <td>6</td>\n",
       "      <td>242</td>\n",
       "    </tr>\n",
       "    <tr>\n",
       "      <th>13</th>\n",
       "      <td>2020-05-03</td>\n",
       "      <td>19</td>\n",
       "      <td>180</td>\n",
       "    </tr>\n",
       "    <tr>\n",
       "      <th>14</th>\n",
       "      <td>2020-05-04</td>\n",
       "      <td>1</td>\n",
       "      <td>37</td>\n",
       "    </tr>\n",
       "    <tr>\n",
       "      <th>15</th>\n",
       "      <td>2020-05-05</td>\n",
       "      <td>1</td>\n",
       "      <td>139</td>\n",
       "    </tr>\n",
       "    <tr>\n",
       "      <th>16</th>\n",
       "      <td>2020-05-06</td>\n",
       "      <td>3</td>\n",
       "      <td>2</td>\n",
       "    </tr>\n",
       "    <tr>\n",
       "      <th>17</th>\n",
       "      <td>2020-05-07</td>\n",
       "      <td>2</td>\n",
       "      <td>52</td>\n",
       "    </tr>\n",
       "    <tr>\n",
       "      <th>18</th>\n",
       "      <td>2020-05-08</td>\n",
       "      <td>48</td>\n",
       "      <td>87</td>\n",
       "    </tr>\n",
       "    <tr>\n",
       "      <th>19</th>\n",
       "      <td>2020-05-09</td>\n",
       "      <td>19</td>\n",
       "      <td>86</td>\n",
       "    </tr>\n",
       "    <tr>\n",
       "      <th>20</th>\n",
       "      <td>2020-05-10</td>\n",
       "      <td>110</td>\n",
       "      <td>143</td>\n",
       "    </tr>\n",
       "    <tr>\n",
       "      <th>21</th>\n",
       "      <td>2020-05-11</td>\n",
       "      <td>200</td>\n",
       "      <td>186</td>\n",
       "    </tr>\n",
       "    <tr>\n",
       "      <th>22</th>\n",
       "      <td>2020-05-12</td>\n",
       "      <td>85</td>\n",
       "      <td>323</td>\n",
       "    </tr>\n",
       "    <tr>\n",
       "      <th>23</th>\n",
       "      <td>2020-05-13</td>\n",
       "      <td>102</td>\n",
       "      <td>211</td>\n",
       "    </tr>\n",
       "    <tr>\n",
       "      <th>24</th>\n",
       "      <td>2020-05-14</td>\n",
       "      <td>187</td>\n",
       "      <td>575</td>\n",
       "    </tr>\n",
       "    <tr>\n",
       "      <th>25</th>\n",
       "      <td>2020-05-15</td>\n",
       "      <td>29</td>\n",
       "      <td>10</td>\n",
       "    </tr>\n",
       "    <tr>\n",
       "      <th>26</th>\n",
       "      <td>2020-05-16</td>\n",
       "      <td>4</td>\n",
       "      <td>4</td>\n",
       "    </tr>\n",
       "    <tr>\n",
       "      <th>27</th>\n",
       "      <td>2020-05-17</td>\n",
       "      <td>9</td>\n",
       "      <td>48</td>\n",
       "    </tr>\n",
       "    <tr>\n",
       "      <th>28</th>\n",
       "      <td>2020-05-18</td>\n",
       "      <td>51</td>\n",
       "      <td>3</td>\n",
       "    </tr>\n",
       "    <tr>\n",
       "      <th>29</th>\n",
       "      <td>2020-05-19</td>\n",
       "      <td>11</td>\n",
       "      <td>34</td>\n",
       "    </tr>\n",
       "    <tr>\n",
       "      <th>30</th>\n",
       "      <td>2020-05-20</td>\n",
       "      <td>12</td>\n",
       "      <td>28</td>\n",
       "    </tr>\n",
       "    <tr>\n",
       "      <th>31</th>\n",
       "      <td>2020-05-21</td>\n",
       "      <td>11</td>\n",
       "      <td>49</td>\n",
       "    </tr>\n",
       "  </tbody>\n",
       "</table>\n",
       "</div>"
      ],
      "text/plain": [
       "          date  view  commit\n",
       "0   2020-04-17     1      23\n",
       "1   2020-04-18    23      69\n",
       "2   2020-04-19    15      33\n",
       "3   2020-04-21     3      25\n",
       "4   2020-04-22     1      28\n",
       "5   2020-04-23     5      43\n",
       "6   2020-04-25     1     104\n",
       "7   2020-04-26     8     261\n",
       "8   2020-04-28     2       5\n",
       "9   2020-04-29     4      17\n",
       "10  2020-04-30     9      53\n",
       "11  2020-05-01     3      60\n",
       "12  2020-05-02     6     242\n",
       "13  2020-05-03    19     180\n",
       "14  2020-05-04     1      37\n",
       "15  2020-05-05     1     139\n",
       "16  2020-05-06     3       2\n",
       "17  2020-05-07     2      52\n",
       "18  2020-05-08    48      87\n",
       "19  2020-05-09    19      86\n",
       "20  2020-05-10   110     143\n",
       "21  2020-05-11   200     186\n",
       "22  2020-05-12    85     323\n",
       "23  2020-05-13   102     211\n",
       "24  2020-05-14   187     575\n",
       "25  2020-05-15    29      10\n",
       "26  2020-05-16     4       4\n",
       "27  2020-05-17     9      48\n",
       "28  2020-05-18    51       3\n",
       "29  2020-05-19    11      34\n",
       "30  2020-05-20    12      28\n",
       "31  2020-05-21    11      49"
      ]
     },
     "execution_count": 43,
     "metadata": {},
     "output_type": "execute_result"
    }
   ],
   "source": [
    "df_merge = pd.merge(left=df_view, right=df_checker, on='date', how='inner')\n",
    "df_merge.reset_index(inplace=True)\n",
    "df_merge"
   ]
  },
  {
   "cell_type": "code",
   "execution_count": 49,
   "id": "53403d61a0d1e9df",
   "metadata": {
    "ExecuteTime": {
     "end_time": "2025-01-12T14:28:09.499254Z",
     "start_time": "2025-01-12T14:28:09.272703Z"
    }
   },
   "outputs": [
    {
     "data": {
      "image/png": "[encoded data removed]",
      "text/plain": [
       "<Figure size 1500x800 with 1 Axes>"
      ]
     },
     "metadata": {},
     "output_type": "display_data"
    }
   ],
   "source": [
    "plt = df_merge.plot(x='date', y=['view', 'commit'], style=['-.', '--'], color=['r','c'], figsize=(15, 8), rot=90, fontsize=8, title='Views and commit per day')"
   ]
  },
  {
   "cell_type": "markdown",
   "id": "b0bfc1b55dc7b3fb",
   "metadata": {},
   "source": [
    "How many times was the number of views larger than 150?”"
   ]
  },
  {
   "cell_type": "code",
   "execution_count": 57,
   "id": "a82e986a38242323",
   "metadata": {
    "ExecuteTime": {
     "end_time": "2025-01-12T14:32:20.403863Z",
     "start_time": "2025-01-12T14:32:20.397501Z"
    }
   },
   "outputs": [
    {
     "name": "stdout",
     "output_type": "stream",
     "text": [
      "The answer is 2\n"
     ]
    }
   ],
   "source": [
    "answer = df_merge[df_merge['view'] > 150]['view'].count()\n",
    "print(f'The answer is {answer}')"
   ]
  },
  {
   "cell_type": "code",
   "execution_count": null,
   "id": "8971ade9749f946d",
   "metadata": {},
   "outputs": [],
   "source": [
    "conn.close()"
   ]
  }
 ],
 "metadata": {
  "kernelspec": {
   "display_name": "Python 3 (ipykernel)",
   "language": "python",
   "name": "python3"
  },
  "language_info": {
   "codemirror_mode": {
    "name": "ipython",
    "version": 3
   },
   "file_extension": ".py",
   "mimetype": "text/x-python",
   "name": "python",
   "nbconvert_exporter": "python",
   "pygments_lexer": "ipython3",
   "version": "3.12.8"
  }
 },
 "nbformat": 4,
 "nbformat_minor": 5
}
