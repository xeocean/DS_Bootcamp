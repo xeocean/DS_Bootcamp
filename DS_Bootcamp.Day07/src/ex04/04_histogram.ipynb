{
 "cells": [
  {
   "cell_type": "markdown",
   "id": "4b07506566018652",
   "metadata": {},
   "source": [
    "## Exercise 04 : Histogram"
   ]
  },
  {
   "cell_type": "code",
   "execution_count": 110,
   "id": "eddce07b9a9876cf",
   "metadata": {
    "ExecuteTime": {
     "end_time": "2025-01-15T09:19:31.680192Z",
     "start_time": "2025-01-15T09:19:31.675238Z"
    }
   },
   "outputs": [],
   "source": [
    "import pandas as pd\n",
    "import sqlite3\n",
    "import matplotlib.pyplot as plt"
   ]
  },
  {
   "cell_type": "code",
   "execution_count": 111,
   "id": "b7f8c38bd0681ea2",
   "metadata": {
    "ExecuteTime": {
     "end_time": "2025-01-15T09:19:31.709813Z",
     "start_time": "2025-01-15T09:19:31.707373Z"
    }
   },
   "outputs": [],
   "source": [
    "conn = sqlite3.connect('../data/checking-logs.sqlite')"
   ]
  },
  {
   "cell_type": "code",
   "execution_count": 112,
   "id": "6f9fab5f58c4ab48",
   "metadata": {
    "ExecuteTime": {
     "end_time": "2025-01-15T09:19:31.729167Z",
     "start_time": "2025-01-15T09:19:31.711176Z"
    }
   },
   "outputs": [
    {
     "data": {
      "text/html": [
       "<div>\n",
       "<style scoped>\n",
       "    .dataframe tbody tr th:only-of-type {\n",
       "        vertical-align: middle;\n",
       "    }\n",
       "\n",
       "    .dataframe tbody tr th {\n",
       "        vertical-align: top;\n",
       "    }\n",
       "\n",
       "    .dataframe thead th {\n",
       "        text-align: right;\n",
       "    }\n",
       "</style>\n",
       "<table border=\"1\" class=\"dataframe\">\n",
       "  <thead>\n",
       "    <tr style=\"text-align: right;\">\n",
       "      <th></th>\n",
       "      <th>uid</th>\n",
       "      <th>timestamp</th>\n",
       "    </tr>\n",
       "  </thead>\n",
       "  <tbody>\n",
       "    <tr>\n",
       "      <th>0</th>\n",
       "      <td>user_4</td>\n",
       "      <td>2020-04-17 05:19:02.744528</td>\n",
       "    </tr>\n",
       "    <tr>\n",
       "      <th>1</th>\n",
       "      <td>user_4</td>\n",
       "      <td>2020-04-17 05:22:35.249331</td>\n",
       "    </tr>\n",
       "    <tr>\n",
       "      <th>2</th>\n",
       "      <td>user_4</td>\n",
       "      <td>2020-04-17 05:22:45.549397</td>\n",
       "    </tr>\n",
       "    <tr>\n",
       "      <th>3</th>\n",
       "      <td>user_4</td>\n",
       "      <td>2020-04-17 05:34:14.691200</td>\n",
       "    </tr>\n",
       "    <tr>\n",
       "      <th>4</th>\n",
       "      <td>user_4</td>\n",
       "      <td>2020-04-17 05:34:24.422370</td>\n",
       "    </tr>\n",
       "    <tr>\n",
       "      <th>...</th>\n",
       "      <td>...</td>\n",
       "      <td>...</td>\n",
       "    </tr>\n",
       "    <tr>\n",
       "      <th>3202</th>\n",
       "      <td>user_1</td>\n",
       "      <td>2020-05-21 20:19:06.872761</td>\n",
       "    </tr>\n",
       "    <tr>\n",
       "      <th>3203</th>\n",
       "      <td>user_1</td>\n",
       "      <td>2020-05-21 20:22:41.785725</td>\n",
       "    </tr>\n",
       "    <tr>\n",
       "      <th>3204</th>\n",
       "      <td>user_1</td>\n",
       "      <td>2020-05-21 20:22:41.877806</td>\n",
       "    </tr>\n",
       "    <tr>\n",
       "      <th>3205</th>\n",
       "      <td>user_1</td>\n",
       "      <td>2020-05-21 20:37:00.129678</td>\n",
       "    </tr>\n",
       "    <tr>\n",
       "      <th>3206</th>\n",
       "      <td>user_1</td>\n",
       "      <td>2020-05-21 20:37:00.290491</td>\n",
       "    </tr>\n",
       "  </tbody>\n",
       "</table>\n",
       "<p>3207 rows × 2 columns</p>\n",
       "</div>"
      ],
      "text/plain": [
       "         uid                  timestamp\n",
       "0     user_4 2020-04-17 05:19:02.744528\n",
       "1     user_4 2020-04-17 05:22:35.249331\n",
       "2     user_4 2020-04-17 05:22:45.549397\n",
       "3     user_4 2020-04-17 05:34:14.691200\n",
       "4     user_4 2020-04-17 05:34:24.422370\n",
       "...      ...                        ...\n",
       "3202  user_1 2020-05-21 20:19:06.872761\n",
       "3203  user_1 2020-05-21 20:22:41.785725\n",
       "3204  user_1 2020-05-21 20:22:41.877806\n",
       "3205  user_1 2020-05-21 20:37:00.129678\n",
       "3206  user_1 2020-05-21 20:37:00.290491\n",
       "\n",
       "[3207 rows x 2 columns]"
      ]
     },
     "execution_count": 112,
     "metadata": {},
     "output_type": "execute_result"
    }
   ],
   "source": [
    "query = \"\"\"\n",
    "        select uid, timestamp from checker\n",
    "        where uid like 'user_%';\n",
    "        \"\"\"\n",
    "\n",
    "df = pd.read_sql(query, conn, parse_dates='timestamp')\n",
    "df"
   ]
  },
  {
   "cell_type": "code",
   "execution_count": 113,
   "id": "dfb50e08b52f1d9",
   "metadata": {
    "ExecuteTime": {
     "end_time": "2025-01-15T09:19:31.741668Z",
     "start_time": "2025-01-15T09:19:31.730865Z"
    }
   },
   "outputs": [
    {
     "data": {
      "text/html": [
       "<div>\n",
       "<style scoped>\n",
       "    .dataframe tbody tr th:only-of-type {\n",
       "        vertical-align: middle;\n",
       "    }\n",
       "\n",
       "    .dataframe tbody tr th {\n",
       "        vertical-align: top;\n",
       "    }\n",
       "\n",
       "    .dataframe thead th {\n",
       "        text-align: right;\n",
       "    }\n",
       "</style>\n",
       "<table border=\"1\" class=\"dataframe\">\n",
       "  <thead>\n",
       "    <tr style=\"text-align: right;\">\n",
       "      <th></th>\n",
       "      <th>uid</th>\n",
       "      <th>timestamp</th>\n",
       "      <th>hour</th>\n",
       "      <th>number_day</th>\n",
       "      <th>type</th>\n",
       "    </tr>\n",
       "  </thead>\n",
       "  <tbody>\n",
       "    <tr>\n",
       "      <th>0</th>\n",
       "      <td>user_4</td>\n",
       "      <td>2020-04-17 05:19:02.744528</td>\n",
       "      <td>5</td>\n",
       "      <td>4</td>\n",
       "      <td>working days</td>\n",
       "    </tr>\n",
       "    <tr>\n",
       "      <th>1</th>\n",
       "      <td>user_4</td>\n",
       "      <td>2020-04-17 05:22:35.249331</td>\n",
       "      <td>5</td>\n",
       "      <td>4</td>\n",
       "      <td>working days</td>\n",
       "    </tr>\n",
       "    <tr>\n",
       "      <th>2</th>\n",
       "      <td>user_4</td>\n",
       "      <td>2020-04-17 05:22:45.549397</td>\n",
       "      <td>5</td>\n",
       "      <td>4</td>\n",
       "      <td>working days</td>\n",
       "    </tr>\n",
       "    <tr>\n",
       "      <th>3</th>\n",
       "      <td>user_4</td>\n",
       "      <td>2020-04-17 05:34:14.691200</td>\n",
       "      <td>5</td>\n",
       "      <td>4</td>\n",
       "      <td>working days</td>\n",
       "    </tr>\n",
       "    <tr>\n",
       "      <th>4</th>\n",
       "      <td>user_4</td>\n",
       "      <td>2020-04-17 05:34:24.422370</td>\n",
       "      <td>5</td>\n",
       "      <td>4</td>\n",
       "      <td>working days</td>\n",
       "    </tr>\n",
       "    <tr>\n",
       "      <th>...</th>\n",
       "      <td>...</td>\n",
       "      <td>...</td>\n",
       "      <td>...</td>\n",
       "      <td>...</td>\n",
       "      <td>...</td>\n",
       "    </tr>\n",
       "    <tr>\n",
       "      <th>3202</th>\n",
       "      <td>user_1</td>\n",
       "      <td>2020-05-21 20:19:06.872761</td>\n",
       "      <td>20</td>\n",
       "      <td>3</td>\n",
       "      <td>working days</td>\n",
       "    </tr>\n",
       "    <tr>\n",
       "      <th>3203</th>\n",
       "      <td>user_1</td>\n",
       "      <td>2020-05-21 20:22:41.785725</td>\n",
       "      <td>20</td>\n",
       "      <td>3</td>\n",
       "      <td>working days</td>\n",
       "    </tr>\n",
       "    <tr>\n",
       "      <th>3204</th>\n",
       "      <td>user_1</td>\n",
       "      <td>2020-05-21 20:22:41.877806</td>\n",
       "      <td>20</td>\n",
       "      <td>3</td>\n",
       "      <td>working days</td>\n",
       "    </tr>\n",
       "    <tr>\n",
       "      <th>3205</th>\n",
       "      <td>user_1</td>\n",
       "      <td>2020-05-21 20:37:00.129678</td>\n",
       "      <td>20</td>\n",
       "      <td>3</td>\n",
       "      <td>working days</td>\n",
       "    </tr>\n",
       "    <tr>\n",
       "      <th>3206</th>\n",
       "      <td>user_1</td>\n",
       "      <td>2020-05-21 20:37:00.290491</td>\n",
       "      <td>20</td>\n",
       "      <td>3</td>\n",
       "      <td>working days</td>\n",
       "    </tr>\n",
       "  </tbody>\n",
       "</table>\n",
       "<p>3207 rows × 5 columns</p>\n",
       "</div>"
      ],
      "text/plain": [
       "         uid                  timestamp  hour  number_day          type\n",
       "0     user_4 2020-04-17 05:19:02.744528     5           4  working days\n",
       "1     user_4 2020-04-17 05:22:35.249331     5           4  working days\n",
       "2     user_4 2020-04-17 05:22:45.549397     5           4  working days\n",
       "3     user_4 2020-04-17 05:34:14.691200     5           4  working days\n",
       "4     user_4 2020-04-17 05:34:24.422370     5           4  working days\n",
       "...      ...                        ...   ...         ...           ...\n",
       "3202  user_1 2020-05-21 20:19:06.872761    20           3  working days\n",
       "3203  user_1 2020-05-21 20:22:41.785725    20           3  working days\n",
       "3204  user_1 2020-05-21 20:22:41.877806    20           3  working days\n",
       "3205  user_1 2020-05-21 20:37:00.129678    20           3  working days\n",
       "3206  user_1 2020-05-21 20:37:00.290491    20           3  working days\n",
       "\n",
       "[3207 rows x 5 columns]"
      ]
     },
     "execution_count": 113,
     "metadata": {},
     "output_type": "execute_result"
    }
   ],
   "source": [
    "df['hour'] = df['timestamp'].dt.hour\n",
    "df['number_day'] = df['timestamp'].dt.dayofweek\n",
    "df['type'] = df['number_day'].apply(lambda x: 'weekend' if x >= 5 else 'working days')\n",
    "df"
   ]
  },
  {
   "cell_type": "code",
   "execution_count": 114,
   "id": "52b9b81be545d333",
   "metadata": {
    "ExecuteTime": {
     "end_time": "2025-01-15T09:19:31.751652Z",
     "start_time": "2025-01-15T09:19:31.743077Z"
    }
   },
   "outputs": [],
   "source": [
    "weekend = df[df['type'] == 'weekend'].reset_index()\n",
    "work = df[df['type'] == 'working days'].reset_index()"
   ]
  },
  {
   "cell_type": "code",
   "execution_count": 115,
   "id": "16289f617e0cf99d",
   "metadata": {
    "ExecuteTime": {
     "end_time": "2025-01-15T09:19:31.919319Z",
     "start_time": "2025-01-15T09:19:31.753115Z"
    }
   },
   "outputs": [
    {
     "data": {
      "image/png": "[encoded data removed]",
      "text/plain": [
       "<Figure size 1500x800 with 1 Axes>"
      ]
     },
     "metadata": {},
     "output_type": "display_data"
    }
   ],
   "source": [
    "fig, ax = plt.subplots(figsize=(15, 8))\n",
    "ax.hist(work['hour'], bins=24, color='red', label='working_days')\n",
    "ax.hist(weekend['hour'], bins=24, color='blue', alpha=0.7, label='weekend')\n",
    "ax.set_xlim(0, 23)\n",
    "ax.legend(loc='upper left', fontsize='8')\n",
    "plt.show()"
   ]
  },
  {
   "cell_type": "markdown",
   "id": "459d01807397f68b",
   "metadata": {},
   "source": [
    "## Are there hours when the total number of commits was higher on weekends than on working days?” In your answer, put the top-4 examples."
   ]
  },
  {
   "cell_type": "code",
   "execution_count": 134,
   "id": "bcb91dfb71c7a5bd",
   "metadata": {
    "ExecuteTime": {
     "end_time": "2025-01-15T09:25:22.247322Z",
     "start_time": "2025-01-15T09:25:22.237243Z"
    }
   },
   "outputs": [
    {
     "data": {
      "text/html": [
       "<div>\n",
       "<style scoped>\n",
       "    .dataframe tbody tr th:only-of-type {\n",
       "        vertical-align: middle;\n",
       "    }\n",
       "\n",
       "    .dataframe tbody tr th {\n",
       "        vertical-align: top;\n",
       "    }\n",
       "\n",
       "    .dataframe thead th {\n",
       "        text-align: right;\n",
       "    }\n",
       "</style>\n",
       "<table border=\"1\" class=\"dataframe\">\n",
       "  <thead>\n",
       "    <tr style=\"text-align: right;\">\n",
       "      <th></th>\n",
       "      <th>count</th>\n",
       "    </tr>\n",
       "    <tr>\n",
       "      <th>hour</th>\n",
       "      <th></th>\n",
       "    </tr>\n",
       "  </thead>\n",
       "  <tbody>\n",
       "    <tr>\n",
       "      <th>11</th>\n",
       "      <td>118</td>\n",
       "    </tr>\n",
       "    <tr>\n",
       "      <th>13</th>\n",
       "      <td>108</td>\n",
       "    </tr>\n",
       "    <tr>\n",
       "      <th>22</th>\n",
       "      <td>59</td>\n",
       "    </tr>\n",
       "    <tr>\n",
       "      <th>23</th>\n",
       "      <td>32</td>\n",
       "    </tr>\n",
       "  </tbody>\n",
       "</table>\n",
       "</div>"
      ],
      "text/plain": [
       "      count\n",
       "hour       \n",
       "11      118\n",
       "13      108\n",
       "22       59\n",
       "23       32"
      ]
     },
     "execution_count": 134,
     "metadata": {},
     "output_type": "execute_result"
    }
   ],
   "source": [
    "we = weekend.groupby('hour').count().reset_index()\n",
    "wo = work.groupby('hour').count().reset_index()\n",
    "answer = we[we['uid'] > wo['uid']]\n",
    "answer = answer.rename(columns={'uid': 'count'})\n",
    "answer[['hour', 'count']].sort_values('count', ascending=False).iloc[:4].set_index('hour')"
   ]
  }
 ],
 "metadata": {
  "kernelspec": {
   "display_name": "Python 3 (ipykernel)",
   "language": "python",
   "name": "python3"
  },
  "language_info": {
   "codemirror_mode": {
    "name": "ipython",
    "version": 3
   },
   "file_extension": ".py",
   "mimetype": "text/x-python",
   "name": "python",
   "nbconvert_exporter": "python",
   "pygments_lexer": "ipython3",
   "version": "3.12.8"
  }
 },
 "nbformat": 4,
 "nbformat_minor": 5
}
