{
 "cells": [
  {
   "cell_type": "markdown",
   "metadata": {},
   "source": [
    "# Day 09. Exercise 00\n",
    "# Regularization"
   ]
  },
  {
   "cell_type": "markdown",
   "metadata": {},
   "source": [
    "## 0. Imports"
   ]
  },
  {
   "cell_type": "code",
   "metadata": {
    "ExecuteTime": {
     "end_time": "2025-02-03T15:37:58.136845Z",
     "start_time": "2025-02-03T15:37:58.133327Z"
    }
   },
   "source": [
    "import pandas as pd\n",
    "import numpy as np\n",
    "import matplotlib.pyplot as plt\n",
    "from sklearn.model_selection import train_test_split\n",
    "from sklearn.linear_model import LogisticRegression\n",
    "from sklearn.model_selection import StratifiedKFold\n",
    "from sklearn.metrics import accuracy_score, classification_report\n",
    "from sklearn.svm import SVC\n",
    "from sklearn.tree import DecisionTreeClassifier\n",
    "from sklearn.model_selection import GridSearchCV\n",
    "from sklearn.ensemble import RandomForestClassifier\n",
    "from sklearn.metrics import confusion_matrix\n",
    "import seaborn as sns\n",
    "import joblib"
   ],
   "outputs": [],
   "execution_count": 57
  },
  {
   "cell_type": "markdown",
   "metadata": {},
   "source": [
    "## 1. Preprocessing"
   ]
  },
  {
   "cell_type": "markdown",
   "metadata": {},
   "source": [
    "1. Read the file `dayofweek.csv` that you used in the previous day to a dataframe.\n",
    "2. Using `train_test_split` with parameters `test_size=0.2`, `random_state=21` get `X_train`, `y_train`, `X_test`, `y_test`. Use the additional parameter `stratify`."
   ]
  },
  {
   "cell_type": "code",
   "metadata": {
    "ExecuteTime": {
     "end_time": "2025-02-03T15:25:23.516642Z",
     "start_time": "2025-02-03T15:25:23.489060Z"
    }
   },
   "source": [
    "df = pd.read_csv('../data/dayofweek.csv', index_col=0)\n",
    "df.head()"
   ],
   "outputs": [
    {
     "data": {
      "text/plain": [
       "   numTrials      hour  dayofweek  uid_user_0  uid_user_1  uid_user_10  \\\n",
       "0  -0.788667 -2.562352          4           0           0            0   \n",
       "1  -0.756764 -2.562352          4           0           0            0   \n",
       "2  -0.724861 -2.562352          4           0           0            0   \n",
       "3  -0.692958 -2.562352          4           0           0            0   \n",
       "4  -0.661055 -2.562352          4           0           0            0   \n",
       "\n",
       "   uid_user_11  uid_user_12  uid_user_13  uid_user_14  ...  labname_lab02  \\\n",
       "0            0            0            0            0  ...              0   \n",
       "1            0            0            0            0  ...              0   \n",
       "2            0            0            0            0  ...              0   \n",
       "3            0            0            0            0  ...              0   \n",
       "4            0            0            0            0  ...              0   \n",
       "\n",
       "   labname_lab03  labname_lab03s  labname_lab05s  labname_laba04  \\\n",
       "0              0               0               0               0   \n",
       "1              0               0               0               0   \n",
       "2              0               0               0               0   \n",
       "3              0               0               0               0   \n",
       "4              0               0               0               0   \n",
       "\n",
       "   labname_laba04s  labname_laba05  labname_laba06  labname_laba06s  \\\n",
       "0                0               0               0                0   \n",
       "1                0               0               0                0   \n",
       "2                0               0               0                0   \n",
       "3                0               0               0                0   \n",
       "4                0               0               0                0   \n",
       "\n",
       "   labname_project1  \n",
       "0                 1  \n",
       "1                 1  \n",
       "2                 1  \n",
       "3                 1  \n",
       "4                 1  \n",
       "\n",
       "[5 rows x 44 columns]"
      ],
      "text/html": [
       "<div>\n",
       "<style scoped>\n",
       "    .dataframe tbody tr th:only-of-type {\n",
       "        vertical-align: middle;\n",
       "    }\n",
       "\n",
       "    .dataframe tbody tr th {\n",
       "        vertical-align: top;\n",
       "    }\n",
       "\n",
       "    .dataframe thead th {\n",
       "        text-align: right;\n",
       "    }\n",
       "</style>\n",
       "<table border=\"1\" class=\"dataframe\">\n",
       "  <thead>\n",
       "    <tr style=\"text-align: right;\">\n",
       "      <th></th>\n",
       "      <th>numTrials</th>\n",
       "      <th>hour</th>\n",
       "      <th>dayofweek</th>\n",
       "      <th>uid_user_0</th>\n",
       "      <th>uid_user_1</th>\n",
       "      <th>uid_user_10</th>\n",
       "      <th>uid_user_11</th>\n",
       "      <th>uid_user_12</th>\n",
       "      <th>uid_user_13</th>\n",
       "      <th>uid_user_14</th>\n",
       "      <th>...</th>\n",
       "      <th>labname_lab02</th>\n",
       "      <th>labname_lab03</th>\n",
       "      <th>labname_lab03s</th>\n",
       "      <th>labname_lab05s</th>\n",
       "      <th>labname_laba04</th>\n",
       "      <th>labname_laba04s</th>\n",
       "      <th>labname_laba05</th>\n",
       "      <th>labname_laba06</th>\n",
       "      <th>labname_laba06s</th>\n",
       "      <th>labname_project1</th>\n",
       "    </tr>\n",
       "  </thead>\n",
       "  <tbody>\n",
       "    <tr>\n",
       "      <th>0</th>\n",
       "      <td>-0.788667</td>\n",
       "      <td>-2.562352</td>\n",
       "      <td>4</td>\n",
       "      <td>0</td>\n",
       "      <td>0</td>\n",
       "      <td>0</td>\n",
       "      <td>0</td>\n",
       "      <td>0</td>\n",
       "      <td>0</td>\n",
       "      <td>0</td>\n",
       "      <td>...</td>\n",
       "      <td>0</td>\n",
       "      <td>0</td>\n",
       "      <td>0</td>\n",
       "      <td>0</td>\n",
       "      <td>0</td>\n",
       "      <td>0</td>\n",
       "      <td>0</td>\n",
       "      <td>0</td>\n",
       "      <td>0</td>\n",
       "      <td>1</td>\n",
       "    </tr>\n",
       "    <tr>\n",
       "      <th>1</th>\n",
       "      <td>-0.756764</td>\n",
       "      <td>-2.562352</td>\n",
       "      <td>4</td>\n",
       "      <td>0</td>\n",
       "      <td>0</td>\n",
       "      <td>0</td>\n",
       "      <td>0</td>\n",
       "      <td>0</td>\n",
       "      <td>0</td>\n",
       "      <td>0</td>\n",
       "      <td>...</td>\n",
       "      <td>0</td>\n",
       "      <td>0</td>\n",
       "      <td>0</td>\n",
       "      <td>0</td>\n",
       "      <td>0</td>\n",
       "      <td>0</td>\n",
       "      <td>0</td>\n",
       "      <td>0</td>\n",
       "      <td>0</td>\n",
       "      <td>1</td>\n",
       "    </tr>\n",
       "    <tr>\n",
       "      <th>2</th>\n",
       "      <td>-0.724861</td>\n",
       "      <td>-2.562352</td>\n",
       "      <td>4</td>\n",
       "      <td>0</td>\n",
       "      <td>0</td>\n",
       "      <td>0</td>\n",
       "      <td>0</td>\n",
       "      <td>0</td>\n",
       "      <td>0</td>\n",
       "      <td>0</td>\n",
       "      <td>...</td>\n",
       "      <td>0</td>\n",
       "      <td>0</td>\n",
       "      <td>0</td>\n",
       "      <td>0</td>\n",
       "      <td>0</td>\n",
       "      <td>0</td>\n",
       "      <td>0</td>\n",
       "      <td>0</td>\n",
       "      <td>0</td>\n",
       "      <td>1</td>\n",
       "    </tr>\n",
       "    <tr>\n",
       "      <th>3</th>\n",
       "      <td>-0.692958</td>\n",
       "      <td>-2.562352</td>\n",
       "      <td>4</td>\n",
       "      <td>0</td>\n",
       "      <td>0</td>\n",
       "      <td>0</td>\n",
       "      <td>0</td>\n",
       "      <td>0</td>\n",
       "      <td>0</td>\n",
       "      <td>0</td>\n",
       "      <td>...</td>\n",
       "      <td>0</td>\n",
       "      <td>0</td>\n",
       "      <td>0</td>\n",
       "      <td>0</td>\n",
       "      <td>0</td>\n",
       "      <td>0</td>\n",
       "      <td>0</td>\n",
       "      <td>0</td>\n",
       "      <td>0</td>\n",
       "      <td>1</td>\n",
       "    </tr>\n",
       "    <tr>\n",
       "      <th>4</th>\n",
       "      <td>-0.661055</td>\n",
       "      <td>-2.562352</td>\n",
       "      <td>4</td>\n",
       "      <td>0</td>\n",
       "      <td>0</td>\n",
       "      <td>0</td>\n",
       "      <td>0</td>\n",
       "      <td>0</td>\n",
       "      <td>0</td>\n",
       "      <td>0</td>\n",
       "      <td>...</td>\n",
       "      <td>0</td>\n",
       "      <td>0</td>\n",
       "      <td>0</td>\n",
       "      <td>0</td>\n",
       "      <td>0</td>\n",
       "      <td>0</td>\n",
       "      <td>0</td>\n",
       "      <td>0</td>\n",
       "      <td>0</td>\n",
       "      <td>1</td>\n",
       "    </tr>\n",
       "  </tbody>\n",
       "</table>\n",
       "<p>5 rows × 44 columns</p>\n",
       "</div>"
      ]
     },
     "execution_count": 6,
     "metadata": {},
     "output_type": "execute_result"
    }
   ],
   "execution_count": 6
  },
  {
   "cell_type": "code",
   "metadata": {
    "ExecuteTime": {
     "end_time": "2025-02-03T15:25:23.524899Z",
     "start_time": "2025-02-03T15:25:23.518143Z"
    }
   },
   "source": [
    "X = df.drop('dayofweek', axis=1)\n",
    "y = df['dayofweek']\n",
    "\n",
    "X_train, X_test, y_train, y_test = train_test_split(X, y, random_state=21, test_size=0.2, stratify=y)"
   ],
   "outputs": [],
   "execution_count": 7
  },
  {
   "cell_type": "markdown",
   "metadata": {},
   "source": [
    "## 2. Logreg regularization"
   ]
  },
  {
   "cell_type": "markdown",
   "metadata": {},
   "source": [
    "### a. Default regularization"
   ]
  },
  {
   "cell_type": "markdown",
   "metadata": {},
   "source": [
    "1. Train a baseline model with the only parameters `random_state=21`, `fit_intercept=False`.\n",
    "2. Use stratified K-fold cross-validation with `10` splits to evaluate the accuracy of the model\n",
    "\n",
    "\n",
    "The result of the code where you trained and evaluated the baseline model should be exactly like this (use `%%time` to get the info about how long it took to run the cell):\n",
    "\n",
    "```\n",
    "train -  0.62902   |   valid -  0.59259\n",
    "train -  0.64633   |   valid -  0.62963\n",
    "train -  0.63479   |   valid -  0.56296\n",
    "train -  0.65622   |   valid -  0.61481\n",
    "train -  0.63397   |   valid -  0.57778\n",
    "train -  0.64056   |   valid -  0.59259\n",
    "train -  0.64138   |   valid -  0.65926\n",
    "train -  0.65952   |   valid -  0.56296\n",
    "train -  0.64333   |   valid -  0.59701\n",
    "train -  0.63674   |   valid -  0.62687\n",
    "Average accuracy on crossval is 0.60165\n",
    "Std is 0.02943\n",
    "```"
   ]
  },
  {
   "metadata": {
    "ExecuteTime": {
     "end_time": "2025-02-03T15:25:23.532206Z",
     "start_time": "2025-02-03T15:25:23.526323Z"
    }
   },
   "cell_type": "code",
   "source": "lr = LogisticRegression(random_state=21, fit_intercept=False)",
   "outputs": [],
   "execution_count": 8
  },
  {
   "cell_type": "code",
   "metadata": {
    "ExecuteTime": {
     "end_time": "2025-02-03T15:25:23.564411Z",
     "start_time": "2025-02-03T15:25:23.558882Z"
    }
   },
   "source": [
    "# StratifiedKFold учитывает распределение целевой переменной y. Он гарантирует, что в каждом фолде соотношение классов будет таким же, как и в исходном наборе данных.\n",
    "# Например, если в исходных данных 70% объектов принадлежат классу 0 и 30% — классу 1, то в каждом фолде это соотношение (70/30) сохранится.\n",
    "\n",
    "def crossval(model, X, y, n_splits=10):\n",
    "    train_scores = []\n",
    "    valid_scores = []\n",
    "    skf = StratifiedKFold(n_splits=10)\n",
    "    for train, valid in skf.split(X, y):\n",
    "        X_train, X_valid = X.iloc[train], X.iloc[valid]\n",
    "        y_train, y_valid = y.iloc[train], y.iloc[valid]\n",
    "        model.fit(X_train, y_train)\n",
    "        y_train_pred = model.predict(X_train)\n",
    "        y_valid_pred = model.predict(X_valid)\n",
    "        train_scores.append(accuracy_score(y_train, y_train_pred))\n",
    "        valid_scores.append(accuracy_score(y_valid, y_valid_pred))\n",
    "\n",
    "    for i in range(len(train_scores)):\n",
    "        print(f'train - {train_scores[i]:.5f} | valid - {valid_scores[i]:.5f}')\n",
    "        \n",
    "    print(f'Average accuracy on crossval is {np.mean(valid_scores):.5f}')\n",
    "    print(f'Std is {np.std(valid_scores):.5f}')\n"
   ],
   "outputs": [],
   "execution_count": 9
  },
  {
   "metadata": {
    "ExecuteTime": {
     "end_time": "2025-02-03T15:25:24.753311Z",
     "start_time": "2025-02-03T15:25:23.575977Z"
    }
   },
   "cell_type": "code",
   "source": [
    "%%time\n",
    "crossval(lr, X_train, y_train)"
   ],
   "outputs": [
    {
     "name": "stdout",
     "output_type": "stream",
     "text": [
      "train - 0.62902 | valid - 0.59259\n",
      "train - 0.64633 | valid - 0.62963\n",
      "train - 0.63479 | valid - 0.56296\n",
      "train - 0.65622 | valid - 0.61481\n",
      "train - 0.63397 | valid - 0.57778\n",
      "train - 0.64056 | valid - 0.59259\n",
      "train - 0.64138 | valid - 0.65926\n",
      "train - 0.65952 | valid - 0.56296\n",
      "train - 0.64333 | valid - 0.59701\n",
      "train - 0.63674 | valid - 0.62687\n",
      "Average accuracy on crossval is 0.60165\n",
      "Std is 0.02943\n",
      "CPU times: user 1.56 s, sys: 5.59 s, total: 7.14 s\n",
      "Wall time: 1.17 s\n"
     ]
    }
   ],
   "execution_count": 10
  },
  {
   "cell_type": "markdown",
   "metadata": {},
   "source": [
    "### b. Optimizing regularization parameters"
   ]
  },
  {
   "cell_type": "markdown",
   "metadata": {},
   "source": [
    "1. In the cells below try different values of penalty: `none`, `l1`, `l2` – you can change the values of solver too."
   ]
  },
  {
   "cell_type": "code",
   "metadata": {
    "ExecuteTime": {
     "end_time": "2025-02-03T15:25:28.797787Z",
     "start_time": "2025-02-03T15:25:24.756251Z"
    }
   },
   "source": [
    "%%time\n",
    "lr = LogisticRegression(penalty='none', max_iter=1000, random_state=21, fit_intercept=False)\n",
    "crossval(lr, X_train, y_train)"
   ],
   "outputs": [
    {
     "name": "stdout",
     "output_type": "stream",
     "text": [
      "train - 0.66694 | valid - 0.63704\n",
      "train - 0.65787 | valid - 0.65926\n",
      "train - 0.66694 | valid - 0.57778\n",
      "train - 0.66529 | valid - 0.62963\n",
      "train - 0.66694 | valid - 0.62222\n",
      "train - 0.65952 | valid - 0.57778\n",
      "train - 0.64963 | valid - 0.69630\n",
      "train - 0.68425 | valid - 0.61481\n",
      "train - 0.66474 | valid - 0.62687\n",
      "train - 0.65651 | valid - 0.60448\n",
      "Average accuracy on crossval is 0.62462\n",
      "Std is 0.03379\n",
      "CPU times: user 6.43 s, sys: 21.9 s, total: 28.4 s\n",
      "Wall time: 4.04 s\n"
     ]
    }
   ],
   "execution_count": 11
  },
  {
   "cell_type": "code",
   "metadata": {
    "ExecuteTime": {
     "end_time": "2025-02-03T15:25:29.160995Z",
     "start_time": "2025-02-03T15:25:28.798816Z"
    }
   },
   "source": [
    "%%time\n",
    "lr = LogisticRegression(random_state=21, fit_intercept=False, solver='liblinear', penalty='l1')\n",
    "crossval(lr, X_train, y_train)"
   ],
   "outputs": [
    {
     "name": "stdout",
     "output_type": "stream",
     "text": [
      "train - 0.61830 | valid - 0.54815\n",
      "train - 0.62737 | valid - 0.62222\n",
      "train - 0.60511 | valid - 0.54074\n",
      "train - 0.63644 | valid - 0.62222\n",
      "train - 0.62407 | valid - 0.55556\n",
      "train - 0.62325 | valid - 0.58519\n",
      "train - 0.61253 | valid - 0.63704\n",
      "train - 0.64716 | valid - 0.58519\n",
      "train - 0.63015 | valid - 0.59701\n",
      "train - 0.61367 | valid - 0.59701\n",
      "Average accuracy on crossval is 0.58903\n",
      "Std is 0.03129\n",
      "CPU times: user 453 ms, sys: 1.82 s, total: 2.27 s\n",
      "Wall time: 358 ms\n"
     ]
    }
   ],
   "execution_count": 12
  },
  {
   "cell_type": "code",
   "metadata": {
    "ExecuteTime": {
     "end_time": "2025-02-03T15:25:29.324790Z",
     "start_time": "2025-02-03T15:25:29.165465Z"
    }
   },
   "source": [
    "%%time\n",
    "lr = LogisticRegression(random_state=21, fit_intercept=False, solver='liblinear', penalty='l2')\n",
    "crossval(lr, X_train, y_train)"
   ],
   "outputs": [
    {
     "name": "stdout",
     "output_type": "stream",
     "text": [
      "train - 0.61006 | valid - 0.56296\n",
      "train - 0.61665 | valid - 0.61481\n",
      "train - 0.61336 | valid - 0.59259\n",
      "train - 0.62902 | valid - 0.60741\n",
      "train - 0.60923 | valid - 0.55556\n",
      "train - 0.61500 | valid - 0.57778\n",
      "train - 0.61665 | valid - 0.61481\n",
      "train - 0.64056 | valid - 0.53333\n",
      "train - 0.62109 | valid - 0.58209\n",
      "train - 0.61120 | valid - 0.57463\n",
      "Average accuracy on crossval is 0.58160\n",
      "Std is 0.02532\n",
      "CPU times: user 248 ms, sys: 830 ms, total: 1.08 s\n",
      "Wall time: 155 ms\n"
     ]
    }
   ],
   "execution_count": 13
  },
  {
   "cell_type": "markdown",
   "metadata": {},
   "source": [
    "## 3. SVM regularization"
   ]
  },
  {
   "cell_type": "markdown",
   "metadata": {},
   "source": [
    "### a. Default regularization"
   ]
  },
  {
   "cell_type": "markdown",
   "metadata": {},
   "source": [
    "1. Train a baseline model with the only parameters `probability=True`, `kernel='linear'`, `random_state=21`.\n",
    "2. Use stratified K-fold cross-validation with `10` splits to evaluate the accuracy of the model.\n",
    "3. The format of the result of the code where you trained and evaluated the baseline model should be similar to what you have got for the logreg."
   ]
  },
  {
   "cell_type": "code",
   "metadata": {
    "ExecuteTime": {
     "end_time": "2025-02-03T15:25:29.332074Z",
     "start_time": "2025-02-03T15:25:29.329180Z"
    }
   },
   "source": "svm = SVC(random_state=21, probability=True, kernel='linear')",
   "outputs": [],
   "execution_count": 14
  },
  {
   "metadata": {
    "ExecuteTime": {
     "end_time": "2025-02-03T15:25:33.324675Z",
     "start_time": "2025-02-03T15:25:29.334041Z"
    }
   },
   "cell_type": "code",
   "source": [
    "%%time\n",
    "crossval(svm, X_train, y_train)"
   ],
   "outputs": [
    {
     "name": "stdout",
     "output_type": "stream",
     "text": [
      "train - 0.70486 | valid - 0.65926\n",
      "train - 0.69662 | valid - 0.75556\n",
      "train - 0.69415 | valid - 0.62222\n",
      "train - 0.70239 | valid - 0.65185\n",
      "train - 0.69085 | valid - 0.65185\n",
      "train - 0.68920 | valid - 0.64444\n",
      "train - 0.69250 | valid - 0.72593\n",
      "train - 0.70074 | valid - 0.62222\n",
      "train - 0.69605 | valid - 0.61940\n",
      "train - 0.71087 | valid - 0.63433\n",
      "Average accuracy on crossval is 0.65871\n",
      "Std is 0.04359\n",
      "CPU times: user 4.01 s, sys: 492 ms, total: 4.5 s\n",
      "Wall time: 3.98 s\n"
     ]
    }
   ],
   "execution_count": 15
  },
  {
   "cell_type": "markdown",
   "metadata": {},
   "source": [
    "### b. Optimizing regularization parameters"
   ]
  },
  {
   "cell_type": "markdown",
   "metadata": {},
   "source": [
    "1. In the cells below try different values of the parameter `C`."
   ]
  },
  {
   "cell_type": "code",
   "metadata": {
    "ExecuteTime": {
     "end_time": "2025-02-03T15:25:37.679050Z",
     "start_time": "2025-02-03T15:25:33.325730Z"
    }
   },
   "source": [
    "%%time\n",
    "svm = SVC(random_state=21, probability=True, kernel='linear', C=1)\n",
    "crossval(svm, X_train, y_train)"
   ],
   "outputs": [
    {
     "name": "stdout",
     "output_type": "stream",
     "text": [
      "train - 0.70486 | valid - 0.65926\n",
      "train - 0.69662 | valid - 0.75556\n",
      "train - 0.69415 | valid - 0.62222\n",
      "train - 0.70239 | valid - 0.65185\n",
      "train - 0.69085 | valid - 0.65185\n",
      "train - 0.68920 | valid - 0.64444\n",
      "train - 0.69250 | valid - 0.72593\n",
      "train - 0.70074 | valid - 0.62222\n",
      "train - 0.69605 | valid - 0.61940\n",
      "train - 0.71087 | valid - 0.63433\n",
      "Average accuracy on crossval is 0.65871\n",
      "Std is 0.04359\n",
      "CPU times: user 4.35 s, sys: 0 ns, total: 4.35 s\n",
      "Wall time: 4.35 s\n"
     ]
    }
   ],
   "execution_count": 16
  },
  {
   "cell_type": "code",
   "metadata": {
    "ExecuteTime": {
     "end_time": "2025-02-03T15:25:41.739567Z",
     "start_time": "2025-02-03T15:25:37.680237Z"
    }
   },
   "source": [
    "%%time\n",
    "svm = SVC(random_state=21, probability=True, kernel='linear', C=2)\n",
    "crossval(svm, X_train, y_train)"
   ],
   "outputs": [
    {
     "name": "stdout",
     "output_type": "stream",
     "text": [
      "train - 0.70734 | valid - 0.65926\n",
      "train - 0.71393 | valid - 0.75556\n",
      "train - 0.74526 | valid - 0.63704\n",
      "train - 0.71558 | valid - 0.66667\n",
      "train - 0.71146 | valid - 0.67407\n",
      "train - 0.70157 | valid - 0.63704\n",
      "train - 0.70651 | valid - 0.71852\n",
      "train - 0.70981 | valid - 0.64444\n",
      "train - 0.72405 | valid - 0.64925\n",
      "train - 0.72488 | valid - 0.64179\n",
      "Average accuracy on crossval is 0.66836\n",
      "Std is 0.03721\n",
      "CPU times: user 4.06 s, sys: 0 ns, total: 4.06 s\n",
      "Wall time: 4.06 s\n"
     ]
    }
   ],
   "execution_count": 17
  },
  {
   "cell_type": "code",
   "metadata": {
    "ExecuteTime": {
     "end_time": "2025-02-03T15:25:45.981987Z",
     "start_time": "2025-02-03T15:25:41.740497Z"
    }
   },
   "source": [
    "%%time\n",
    "svm = SVC(random_state=21, probability=True, kernel='linear', C=4)\n",
    "crossval(svm, X_train, y_train)"
   ],
   "outputs": [
    {
     "name": "stdout",
     "output_type": "stream",
     "text": [
      "train - 0.71723 | valid - 0.65185\n",
      "train - 0.75598 | valid - 0.82222\n",
      "train - 0.77741 | valid - 0.67407\n",
      "train - 0.73619 | valid - 0.66667\n",
      "train - 0.72218 | valid - 0.71111\n",
      "train - 0.72960 | valid - 0.69630\n",
      "train - 0.72383 | valid - 0.71852\n",
      "train - 0.74444 | valid - 0.63704\n",
      "train - 0.75371 | valid - 0.67164\n",
      "train - 0.75700 | valid - 0.68657\n",
      "Average accuracy on crossval is 0.69360\n",
      "Std is 0.04905\n",
      "CPU times: user 4.24 s, sys: 0 ns, total: 4.24 s\n",
      "Wall time: 4.24 s\n"
     ]
    }
   ],
   "execution_count": 18
  },
  {
   "cell_type": "markdown",
   "metadata": {},
   "source": [
    "## 4. Tree"
   ]
  },
  {
   "cell_type": "markdown",
   "metadata": {},
   "source": [
    "### a. Default regularization"
   ]
  },
  {
   "cell_type": "markdown",
   "metadata": {},
   "source": [
    "1. Train a baseline model with the only parameter `max_depth=10` and `random_state=21`.\n",
    "2. Use stratified K-fold cross-validation with `10` splits to evaluate the accuracy of the model.\n",
    "3. The format of the result of the code where you trained and evaluated the baseline model should be similar to what you have got for the logreg."
   ]
  },
  {
   "cell_type": "code",
   "metadata": {
    "ExecuteTime": {
     "end_time": "2025-02-03T15:25:45.986923Z",
     "start_time": "2025-02-03T15:25:45.984381Z"
    }
   },
   "source": "tree = DecisionTreeClassifier(random_state=21, max_depth=10)",
   "outputs": [],
   "execution_count": 19
  },
  {
   "metadata": {
    "ExecuteTime": {
     "end_time": "2025-02-03T15:25:46.066200Z",
     "start_time": "2025-02-03T15:25:45.988012Z"
    }
   },
   "cell_type": "code",
   "source": [
    "%%time\n",
    "crossval(tree, X_train, y_train)"
   ],
   "outputs": [
    {
     "name": "stdout",
     "output_type": "stream",
     "text": [
      "train - 0.81039 | valid - 0.74074\n",
      "train - 0.77741 | valid - 0.74074\n",
      "train - 0.83347 | valid - 0.70370\n",
      "train - 0.79720 | valid - 0.76296\n",
      "train - 0.82440 | valid - 0.75556\n",
      "train - 0.80379 | valid - 0.68889\n",
      "train - 0.80709 | valid - 0.76296\n",
      "train - 0.80132 | valid - 0.65926\n",
      "train - 0.80807 | valid - 0.75373\n",
      "train - 0.80478 | valid - 0.68657\n",
      "Average accuracy on crossval is 0.72551\n",
      "Std is 0.03562\n",
      "CPU times: user 69.7 ms, sys: 0 ns, total: 69.7 ms\n",
      "Wall time: 69.3 ms\n"
     ]
    }
   ],
   "execution_count": 20
  },
  {
   "cell_type": "markdown",
   "metadata": {},
   "source": [
    "### b. Optimizing regularization parameters"
   ]
  },
  {
   "cell_type": "markdown",
   "metadata": {},
   "source": [
    "1. In the cells below try different values of the parameter `max_depth`.\n",
    "2. As a bonus, play with other regularization parameters trying to find the best combination."
   ]
  },
  {
   "cell_type": "code",
   "metadata": {
    "ExecuteTime": {
     "end_time": "2025-02-03T15:25:46.145494Z",
     "start_time": "2025-02-03T15:25:46.067365Z"
    }
   },
   "source": [
    "%%time\n",
    "tree = DecisionTreeClassifier(random_state=21, max_depth=10)\n",
    "crossval(tree, X_train, y_train)"
   ],
   "outputs": [
    {
     "name": "stdout",
     "output_type": "stream",
     "text": [
      "train - 0.81039 | valid - 0.74074\n",
      "train - 0.77741 | valid - 0.74074\n",
      "train - 0.83347 | valid - 0.70370\n",
      "train - 0.79720 | valid - 0.76296\n",
      "train - 0.82440 | valid - 0.75556\n",
      "train - 0.80379 | valid - 0.68889\n",
      "train - 0.80709 | valid - 0.76296\n",
      "train - 0.80132 | valid - 0.65926\n",
      "train - 0.80807 | valid - 0.75373\n",
      "train - 0.80478 | valid - 0.68657\n",
      "Average accuracy on crossval is 0.72551\n",
      "Std is 0.03562\n",
      "CPU times: user 75.5 ms, sys: 0 ns, total: 75.5 ms\n",
      "Wall time: 74.9 ms\n"
     ]
    }
   ],
   "execution_count": 21
  },
  {
   "cell_type": "code",
   "metadata": {
    "ExecuteTime": {
     "end_time": "2025-02-03T15:25:46.231147Z",
     "start_time": "2025-02-03T15:25:46.146899Z"
    }
   },
   "source": [
    "%%time\n",
    "tree = DecisionTreeClassifier(random_state=21, max_depth=20)\n",
    "crossval(tree, X_train, y_train)"
   ],
   "outputs": [
    {
     "name": "stdout",
     "output_type": "stream",
     "text": [
      "train - 0.98846 | valid - 0.86667\n",
      "train - 0.99011 | valid - 0.91111\n",
      "train - 0.98681 | valid - 0.85926\n",
      "train - 0.98763 | valid - 0.91111\n",
      "train - 0.98928 | valid - 0.88148\n",
      "train - 0.98186 | valid - 0.85926\n",
      "train - 0.98846 | valid - 0.91852\n",
      "train - 0.99176 | valid - 0.89630\n",
      "train - 0.99094 | valid - 0.88060\n",
      "train - 0.98847 | valid - 0.88060\n",
      "Average accuracy on crossval is 0.88649\n",
      "Std is 0.02075\n",
      "CPU times: user 81.6 ms, sys: 0 ns, total: 81.6 ms\n",
      "Wall time: 80.7 ms\n"
     ]
    }
   ],
   "execution_count": 22
  },
  {
   "cell_type": "code",
   "metadata": {
    "ExecuteTime": {
     "end_time": "2025-02-03T15:25:46.311002Z",
     "start_time": "2025-02-03T15:25:46.232246Z"
    }
   },
   "source": [
    "%%time\n",
    "tree = DecisionTreeClassifier(random_state=21, max_depth=40)\n",
    "crossval(tree, X_train, y_train)"
   ],
   "outputs": [
    {
     "name": "stdout",
     "output_type": "stream",
     "text": [
      "train - 1.00000 | valid - 0.85926\n",
      "train - 1.00000 | valid - 0.91852\n",
      "train - 1.00000 | valid - 0.86667\n",
      "train - 1.00000 | valid - 0.91111\n",
      "train - 1.00000 | valid - 0.88148\n",
      "train - 1.00000 | valid - 0.85185\n",
      "train - 1.00000 | valid - 0.92593\n",
      "train - 1.00000 | valid - 0.88148\n",
      "train - 1.00000 | valid - 0.88060\n",
      "train - 1.00000 | valid - 0.88060\n",
      "Average accuracy on crossval is 0.88575\n",
      "Std is 0.02374\n",
      "CPU times: user 76.5 ms, sys: 0 ns, total: 76.5 ms\n",
      "Wall time: 75.9 ms\n"
     ]
    }
   ],
   "execution_count": 23
  },
  {
   "cell_type": "code",
   "metadata": {
    "ExecuteTime": {
     "end_time": "2025-02-03T15:25:50.129699Z",
     "start_time": "2025-02-03T15:25:46.312340Z"
    }
   },
   "source": [
    "params = {\n",
    "    'criterion': ['gini', 'entropy'],\n",
    "    \"max_depth\": range(10, 40),\n",
    "    'min_samples_split': range(2, 4),\n",
    "    'min_samples_leaf': range(1, 4),\n",
    "}\n",
    "\n",
    "tree = DecisionTreeClassifier(random_state=21)\n",
    "gs = GridSearchCV(estimator=tree, param_grid=params, scoring='accuracy', cv=5, n_jobs=-1)\n",
    "gs.fit(X_train, y_train)\n",
    "print(f'Best params: {gs.best_params_}')\n",
    "print(f'Best score: {gs.best_score_}')"
   ],
   "outputs": [
    {
     "name": "stdout",
     "output_type": "stream",
     "text": [
      "Best params: {'criterion': 'gini', 'max_depth': 21, 'min_samples_leaf': 1, 'min_samples_split': 2}\n",
      "Best score: 0.8686658405617512\n"
     ]
    }
   ],
   "execution_count": 24
  },
  {
   "cell_type": "code",
   "metadata": {
    "ExecuteTime": {
     "end_time": "2025-02-03T15:25:50.208371Z",
     "start_time": "2025-02-03T15:25:50.131066Z"
    }
   },
   "source": [
    "%%time\n",
    "tree = DecisionTreeClassifier(random_state=21, max_depth=21, min_samples_split=2, min_samples_leaf=1)\n",
    "crossval(tree, X_train, y_train)"
   ],
   "outputs": [
    {
     "name": "stdout",
     "output_type": "stream",
     "text": [
      "train - 0.99176 | valid - 0.86667\n",
      "train - 0.99176 | valid - 0.90370\n",
      "train - 0.99093 | valid - 0.85926\n",
      "train - 0.99176 | valid - 0.89630\n",
      "train - 0.99093 | valid - 0.88148\n",
      "train - 0.98516 | valid - 0.88148\n",
      "train - 0.98928 | valid - 0.91852\n",
      "train - 0.99423 | valid - 0.87407\n",
      "train - 0.99588 | valid - 0.86567\n",
      "train - 0.99012 | valid - 0.88060\n",
      "Average accuracy on crossval is 0.88278\n",
      "Std is 0.01757\n",
      "CPU times: user 74.5 ms, sys: 500 µs, total: 75 ms\n",
      "Wall time: 74.1 ms\n"
     ]
    }
   ],
   "execution_count": 25
  },
  {
   "cell_type": "markdown",
   "metadata": {},
   "source": [
    "## 5. Random forest"
   ]
  },
  {
   "cell_type": "markdown",
   "metadata": {},
   "source": [
    "### a. Default regularization"
   ]
  },
  {
   "cell_type": "markdown",
   "metadata": {},
   "source": [
    "1. Train a baseline model with the only parameters `n_estimators=50`, `max_depth=14`, `random_state=21`.\n",
    "2. Use stratified K-fold cross-validation with `10` splits to evaluate the accuracy of the model.\n",
    "3. The format of the result of the code where you trained and evaluated the baseline model should be similar to what you have got for the logreg."
   ]
  },
  {
   "cell_type": "code",
   "metadata": {
    "ExecuteTime": {
     "end_time": "2025-02-03T15:25:50.212346Z",
     "start_time": "2025-02-03T15:25:50.209542Z"
    }
   },
   "source": "forest = RandomForestClassifier(random_state=21, n_estimators=50, max_depth=14)",
   "outputs": [],
   "execution_count": 26
  },
  {
   "metadata": {
    "ExecuteTime": {
     "end_time": "2025-02-03T15:25:51.037717Z",
     "start_time": "2025-02-03T15:25:50.213590Z"
    }
   },
   "cell_type": "code",
   "source": [
    "%%time\n",
    "crossval(forest, X_train, y_train)"
   ],
   "outputs": [
    {
     "name": "stdout",
     "output_type": "stream",
     "text": [
      "train - 0.96455 | valid - 0.88148\n",
      "train - 0.96208 | valid - 0.91852\n",
      "train - 0.96785 | valid - 0.86667\n",
      "train - 0.96455 | valid - 0.89630\n",
      "train - 0.96538 | valid - 0.91111\n",
      "train - 0.96538 | valid - 0.88148\n",
      "train - 0.97115 | valid - 0.91852\n",
      "train - 0.96867 | valid - 0.85185\n",
      "train - 0.97364 | valid - 0.88060\n",
      "train - 0.97941 | valid - 0.86567\n",
      "Average accuracy on crossval is 0.88722\n",
      "Std is 0.02204\n",
      "CPU times: user 815 ms, sys: 2 ms, total: 817 ms\n",
      "Wall time: 817 ms\n"
     ]
    }
   ],
   "execution_count": 27
  },
  {
   "cell_type": "markdown",
   "metadata": {},
   "source": [
    "### b. Optimizing regularization parameters"
   ]
  },
  {
   "cell_type": "markdown",
   "metadata": {},
   "source": [
    "1. In the new cells try different values of the parameters `max_depth` and `n_estimators`.\n",
    "2. As a bonus, play with other regularization parameters trying to find the best combination."
   ]
  },
  {
   "cell_type": "code",
   "metadata": {
    "ExecuteTime": {
     "end_time": "2025-02-03T15:25:52.594619Z",
     "start_time": "2025-02-03T15:25:51.038981Z"
    }
   },
   "source": [
    "%%time\n",
    "forest = RandomForestClassifier(random_state=21, n_estimators=100, max_depth=14)\n",
    "crossval(forest, X_train, y_train)"
   ],
   "outputs": [
    {
     "name": "stdout",
     "output_type": "stream",
     "text": [
      "train - 0.96950 | valid - 0.87407\n",
      "train - 0.96867 | valid - 0.91111\n",
      "train - 0.97197 | valid - 0.87407\n",
      "train - 0.96867 | valid - 0.89630\n",
      "train - 0.96867 | valid - 0.90370\n",
      "train - 0.96702 | valid - 0.85926\n",
      "train - 0.97444 | valid - 0.91111\n",
      "train - 0.96950 | valid - 0.88148\n",
      "train - 0.97117 | valid - 0.88060\n",
      "train - 0.97199 | valid - 0.86567\n",
      "Average accuracy on crossval is 0.88574\n",
      "Std is 0.01773\n",
      "CPU times: user 1.55 s, sys: 4.41 ms, total: 1.55 s\n",
      "Wall time: 1.55 s\n"
     ]
    }
   ],
   "execution_count": 28
  },
  {
   "cell_type": "code",
   "metadata": {
    "ExecuteTime": {
     "end_time": "2025-02-03T15:25:54.343986Z",
     "start_time": "2025-02-03T15:25:52.595675Z"
    }
   },
   "source": [
    "%%time\n",
    "forest = RandomForestClassifier(random_state=21, n_estimators=100, max_depth=30)\n",
    "crossval(forest, X_train, y_train)"
   ],
   "outputs": [
    {
     "name": "stdout",
     "output_type": "stream",
     "text": [
      "train - 1.00000 | valid - 0.90370\n",
      "train - 1.00000 | valid - 0.94074\n",
      "train - 1.00000 | valid - 0.91852\n",
      "train - 1.00000 | valid - 0.92593\n",
      "train - 1.00000 | valid - 0.91111\n",
      "train - 1.00000 | valid - 0.90370\n",
      "train - 0.99918 | valid - 0.92593\n",
      "train - 0.99918 | valid - 0.90370\n",
      "train - 1.00000 | valid - 0.91045\n",
      "train - 1.00000 | valid - 0.90299\n",
      "Average accuracy on crossval is 0.91468\n",
      "Std is 0.01215\n",
      "CPU times: user 1.74 s, sys: 1.62 ms, total: 1.75 s\n",
      "Wall time: 1.75 s\n"
     ]
    }
   ],
   "execution_count": 29
  },
  {
   "cell_type": "code",
   "metadata": {
    "ExecuteTime": {
     "end_time": "2025-02-03T15:26:27.185242Z",
     "start_time": "2025-02-03T15:25:54.345113Z"
    }
   },
   "source": [
    "params = {\n",
    "    'n_estimators': range(100, 250, 30),\n",
    "    'max_depth': range(20, 40, 5),\n",
    "    'min_samples_split': range(2, 4),\n",
    "    'min_samples_leaf': range(1, 4),\n",
    "}\n",
    "gs = GridSearchCV(estimator=RandomForestClassifier(random_state=21), param_grid=params, scoring='accuracy', cv=5, n_jobs=-1)\n",
    "gs.fit(X_train, y_train)\n",
    "print(f'Best params: {gs.best_params_}')\n",
    "print(f'Best score: {gs.best_score_}')"
   ],
   "outputs": [
    {
     "name": "stdout",
     "output_type": "stream",
     "text": [
      "Best params: {'max_depth': 35, 'min_samples_leaf': 1, 'min_samples_split': 2, 'n_estimators': 190}\n",
      "Best score: 0.9028060030290513\n"
     ]
    }
   ],
   "execution_count": 30
  },
  {
   "cell_type": "code",
   "metadata": {
    "ExecuteTime": {
     "end_time": "2025-02-03T15:26:30.549921Z",
     "start_time": "2025-02-03T15:26:27.186278Z"
    }
   },
   "source": [
    "%%time\n",
    "forest = RandomForestClassifier(random_state=21, n_estimators=190, max_depth=35)\n",
    "crossval(forest, X_train, y_train)"
   ],
   "outputs": [
    {
     "name": "stdout",
     "output_type": "stream",
     "text": [
      "train - 1.00000 | valid - 0.89630\n",
      "train - 1.00000 | valid - 0.94815\n",
      "train - 1.00000 | valid - 0.90370\n",
      "train - 1.00000 | valid - 0.93333\n",
      "train - 1.00000 | valid - 0.91111\n",
      "train - 1.00000 | valid - 0.88148\n",
      "train - 1.00000 | valid - 0.92593\n",
      "train - 1.00000 | valid - 0.88889\n",
      "train - 1.00000 | valid - 0.92537\n",
      "train - 1.00000 | valid - 0.90299\n",
      "Average accuracy on crossval is 0.91172\n",
      "Std is 0.01999\n",
      "CPU times: user 3.36 s, sys: 6.5 ms, total: 3.36 s\n",
      "Wall time: 3.36 s\n"
     ]
    }
   ],
   "execution_count": 31
  },
  {
   "cell_type": "markdown",
   "metadata": {},
   "source": [
    "## 6. Predictions"
   ]
  },
  {
   "cell_type": "markdown",
   "metadata": {},
   "source": [
    "1. Choose the best model and use it to make predictions for the test dataset.\n",
    "2. Calculate the final accuracy.\n",
    "3. Analyze: for which weekday your model makes the most errors (in % of the total number of samples of that class in your test dataset).\n",
    "4. Save the model."
   ]
  },
  {
   "cell_type": "code",
   "metadata": {
    "ExecuteTime": {
     "end_time": "2025-02-03T15:26:30.867304Z",
     "start_time": "2025-02-03T15:26:30.551012Z"
    }
   },
   "source": [
    "forest = RandomForestClassifier(random_state=21, n_estimators=190, max_depth=35)\n",
    "forest.fit(X_train, y_train)\n",
    "y_pred = forest.predict(X_test)\n",
    "accuracy_score(y_test, y_pred)"
   ],
   "outputs": [
    {
     "data": {
      "text/plain": [
       "0.9378698224852071"
      ]
     },
     "execution_count": 32,
     "metadata": {},
     "output_type": "execute_result"
    }
   ],
   "execution_count": 32
  },
  {
   "metadata": {
    "ExecuteTime": {
     "end_time": "2025-02-03T15:41:58.005058Z",
     "start_time": "2025-02-03T15:41:57.997795Z"
    }
   },
   "cell_type": "code",
   "source": [
    "report = classification_report(y_test, y_pred, labels=range(0, 7))\n",
    "print(report)"
   ],
   "outputs": [
    {
     "name": "stdout",
     "output_type": "stream",
     "text": [
      "              precision    recall  f1-score   support\n",
      "\n",
      "           0       0.95      0.74      0.83        27\n",
      "           1       1.00      0.95      0.97        55\n",
      "           2       1.00      0.93      0.97        30\n",
      "           3       0.92      0.97      0.95        80\n",
      "           4       0.90      0.86      0.88        21\n",
      "           5       0.89      0.94      0.92        54\n",
      "           6       0.93      0.99      0.96        71\n",
      "\n",
      "    accuracy                           0.94       338\n",
      "   macro avg       0.94      0.91      0.92       338\n",
      "weighted avg       0.94      0.94      0.94       338\n",
      "\n"
     ]
    }
   ],
   "execution_count": 65
  },
  {
   "cell_type": "code",
   "metadata": {
    "ExecuteTime": {
     "end_time": "2025-02-03T15:27:39.211488Z",
     "start_time": "2025-02-03T15:27:39.207074Z"
    }
   },
   "source": [
    "matrix = confusion_matrix(y_test, y_pred)\n",
    "matrix"
   ],
   "outputs": [
    {
     "data": {
      "text/plain": [
       "array([[20,  0,  0,  1,  1,  1,  4],\n",
       "       [ 0, 52,  0,  2,  0,  1,  0],\n",
       "       [ 0,  0, 28,  2,  0,  0,  0],\n",
       "       [ 1,  0,  0, 78,  0,  1,  0],\n",
       "       [ 0,  0,  0,  0, 18,  2,  1],\n",
       "       [ 0,  0,  0,  2,  1, 51,  0],\n",
       "       [ 0,  0,  0,  0,  0,  1, 70]])"
      ]
     },
     "execution_count": 37,
     "metadata": {},
     "output_type": "execute_result"
    }
   ],
   "execution_count": 37
  },
  {
   "cell_type": "code",
   "metadata": {
    "ExecuteTime": {
     "end_time": "2025-02-03T15:34:30.060987Z",
     "start_time": "2025-02-03T15:34:29.791852Z"
    }
   },
   "source": [
    "plt.figure(figsize=(10, 8))\n",
    "sns.heatmap(matrix, annot=True, cmap=\"Blues\", center=0, cbar=True)\n",
    "plt.xlabel('Predicted')\n",
    "plt.ylabel('Actual')\n",
    "plt.show()"
   ],
   "outputs": [
    {
     "data": {
      "text/plain": [
       "<Figure size 1000x800 with 2 Axes>"
      ],
      "image/png": "[encoded data removed]"
     },
     "metadata": {},
     "output_type": "display_data"
    }
   ],
   "execution_count": 55
  },
  {
   "metadata": {
    "ExecuteTime": {
     "end_time": "2025-02-03T15:34:32.747988Z",
     "start_time": "2025-02-03T15:34:32.666974Z"
    }
   },
   "cell_type": "code",
   "source": "joblib.dump(forest, '../data/model.pkl')",
   "outputs": [
    {
     "data": {
      "text/plain": [
       "['../data/model.plk']"
      ]
     },
     "execution_count": 56,
     "metadata": {},
     "output_type": "execute_result"
    }
   ],
   "execution_count": 56
  }
 ],
 "metadata": {
  "kernelspec": {
   "display_name": "Python 3",
   "language": "python",
   "name": "python3"
  },
  "language_info": {
   "codemirror_mode": {
    "name": "ipython",
    "version": 3
   },
   "file_extension": ".py",
   "mimetype": "text/x-python",
   "name": "python",
   "nbconvert_exporter": "python",
   "pygments_lexer": "ipython3",
   "version": "3.7.7"
  }
 },
 "nbformat": 4,
 "nbformat_minor": 4
}
