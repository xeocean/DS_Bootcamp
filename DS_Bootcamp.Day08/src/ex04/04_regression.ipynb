{
 "cells": [
  {
   "cell_type": "markdown",
   "metadata": {},
   "source": [
    "# Day 08. Exercise 04\n",
    "# Regression"
   ]
  },
  {
   "cell_type": "markdown",
   "metadata": {},
   "source": [
    "## 0. Imports"
   ]
  },
  {
   "cell_type": "code",
   "metadata": {
    "ExecuteTime": {
     "end_time": "2025-02-02T10:07:32.548746Z",
     "start_time": "2025-02-02T10:07:32.546017Z"
    }
   },
   "source": [
    "import pandas as pd\n",
    "import numpy as np\n",
    "import matplotlib.pyplot as plt\n",
    "from sklearn.linear_model import LinearRegression\n",
    "from sklearn.model_selection import train_test_split\n",
    "from sklearn.preprocessing import StandardScaler\n",
    "from sklearn.tree import DecisionTreeRegressor\n",
    "from sklearn.ensemble import RandomForestRegressor\n",
    "from sklearn.model_selection import KFold\n",
    "from sklearn.metrics import mean_squared_error"
   ],
   "outputs": [],
   "execution_count": 244
  },
  {
   "cell_type": "markdown",
   "metadata": {},
   "source": [
    "## 1. Preprocessing"
   ]
  },
  {
   "cell_type": "markdown",
   "metadata": {},
   "source": [
    "1. Read the file [`checker_regression.csv`](https://drive.google.com/file/d/1L8auBzJEghWFewznhhFpcrqxW4GqcfRY/view?usp=sharing).\n",
    "2. Fill the missing values in it with `0`.\n",
    "3. Make a split of your dataset on train and test with parameters `test_size=0.2`."
   ]
  },
  {
   "cell_type": "code",
   "metadata": {
    "ExecuteTime": {
     "end_time": "2025-02-02T10:07:32.585918Z",
     "start_time": "2025-02-02T10:07:32.574542Z"
    }
   },
   "source": [
    "df = pd.read_csv('../data/checker_regression.csv')\n",
    "df"
   ],
   "outputs": [
    {
     "data": {
      "text/plain": [
       "        uid  num_commits  pageviews  AVG(diff)\n",
       "0    user_1           62       28.0        NaN\n",
       "1    user_1           62       28.0        NaN\n",
       "2    user_1           62       28.0        NaN\n",
       "3    user_1           62       28.0        NaN\n",
       "4    user_1           62       28.0        NaN\n",
       "..      ...          ...        ...        ...\n",
       "72  user_31          128        NaN    -104.75\n",
       "73   user_4           40        NaN    -175.60\n",
       "74   user_6           15        NaN     -62.60\n",
       "75   user_7            8        NaN    -115.50\n",
       "76   user_8           71        NaN    -160.40\n",
       "\n",
       "[77 rows x 4 columns]"
      ],
      "text/html": [
       "<div>\n",
       "<style scoped>\n",
       "    .dataframe tbody tr th:only-of-type {\n",
       "        vertical-align: middle;\n",
       "    }\n",
       "\n",
       "    .dataframe tbody tr th {\n",
       "        vertical-align: top;\n",
       "    }\n",
       "\n",
       "    .dataframe thead th {\n",
       "        text-align: right;\n",
       "    }\n",
       "</style>\n",
       "<table border=\"1\" class=\"dataframe\">\n",
       "  <thead>\n",
       "    <tr style=\"text-align: right;\">\n",
       "      <th></th>\n",
       "      <th>uid</th>\n",
       "      <th>num_commits</th>\n",
       "      <th>pageviews</th>\n",
       "      <th>AVG(diff)</th>\n",
       "    </tr>\n",
       "  </thead>\n",
       "  <tbody>\n",
       "    <tr>\n",
       "      <th>0</th>\n",
       "      <td>user_1</td>\n",
       "      <td>62</td>\n",
       "      <td>28.0</td>\n",
       "      <td>NaN</td>\n",
       "    </tr>\n",
       "    <tr>\n",
       "      <th>1</th>\n",
       "      <td>user_1</td>\n",
       "      <td>62</td>\n",
       "      <td>28.0</td>\n",
       "      <td>NaN</td>\n",
       "    </tr>\n",
       "    <tr>\n",
       "      <th>2</th>\n",
       "      <td>user_1</td>\n",
       "      <td>62</td>\n",
       "      <td>28.0</td>\n",
       "      <td>NaN</td>\n",
       "    </tr>\n",
       "    <tr>\n",
       "      <th>3</th>\n",
       "      <td>user_1</td>\n",
       "      <td>62</td>\n",
       "      <td>28.0</td>\n",
       "      <td>NaN</td>\n",
       "    </tr>\n",
       "    <tr>\n",
       "      <th>4</th>\n",
       "      <td>user_1</td>\n",
       "      <td>62</td>\n",
       "      <td>28.0</td>\n",
       "      <td>NaN</td>\n",
       "    </tr>\n",
       "    <tr>\n",
       "      <th>...</th>\n",
       "      <td>...</td>\n",
       "      <td>...</td>\n",
       "      <td>...</td>\n",
       "      <td>...</td>\n",
       "    </tr>\n",
       "    <tr>\n",
       "      <th>72</th>\n",
       "      <td>user_31</td>\n",
       "      <td>128</td>\n",
       "      <td>NaN</td>\n",
       "      <td>-104.75</td>\n",
       "    </tr>\n",
       "    <tr>\n",
       "      <th>73</th>\n",
       "      <td>user_4</td>\n",
       "      <td>40</td>\n",
       "      <td>NaN</td>\n",
       "      <td>-175.60</td>\n",
       "    </tr>\n",
       "    <tr>\n",
       "      <th>74</th>\n",
       "      <td>user_6</td>\n",
       "      <td>15</td>\n",
       "      <td>NaN</td>\n",
       "      <td>-62.60</td>\n",
       "    </tr>\n",
       "    <tr>\n",
       "      <th>75</th>\n",
       "      <td>user_7</td>\n",
       "      <td>8</td>\n",
       "      <td>NaN</td>\n",
       "      <td>-115.50</td>\n",
       "    </tr>\n",
       "    <tr>\n",
       "      <th>76</th>\n",
       "      <td>user_8</td>\n",
       "      <td>71</td>\n",
       "      <td>NaN</td>\n",
       "      <td>-160.40</td>\n",
       "    </tr>\n",
       "  </tbody>\n",
       "</table>\n",
       "<p>77 rows × 4 columns</p>\n",
       "</div>"
      ]
     },
     "execution_count": 245,
     "metadata": {},
     "output_type": "execute_result"
    }
   ],
   "execution_count": 245
  },
  {
   "cell_type": "code",
   "metadata": {
    "ExecuteTime": {
     "end_time": "2025-02-02T10:07:32.596290Z",
     "start_time": "2025-02-02T10:07:32.588628Z"
    }
   },
   "source": [
    "df = df.fillna(0)\n",
    "df.info()"
   ],
   "outputs": [
    {
     "name": "stdout",
     "output_type": "stream",
     "text": [
      "<class 'pandas.core.frame.DataFrame'>\n",
      "RangeIndex: 77 entries, 0 to 76\n",
      "Data columns (total 4 columns):\n",
      " #   Column       Non-Null Count  Dtype  \n",
      "---  ------       --------------  -----  \n",
      " 0   uid          77 non-null     object \n",
      " 1   num_commits  77 non-null     int64  \n",
      " 2   pageviews    77 non-null     float64\n",
      " 3   AVG(diff)    77 non-null     float64\n",
      "dtypes: float64(2), int64(1), object(1)\n",
      "memory usage: 2.5+ KB\n"
     ]
    }
   ],
   "execution_count": 246
  },
  {
   "cell_type": "code",
   "metadata": {
    "ExecuteTime": {
     "end_time": "2025-02-02T10:07:32.609141Z",
     "start_time": "2025-02-02T10:07:32.598152Z"
    }
   },
   "source": [
    "codes, uniques = pd.factorize(df['uid'])\n",
    "df['uid_codes'] = codes\n",
    "\n",
    "X = df[['num_commits', 'pageviews', 'uid_codes']]\n",
    "y = df['AVG(diff)']\n",
    "\n",
    "scaler = StandardScaler()\n",
    "X_scaled = scaler.fit_transform(X)\n",
    "\n",
    "X_train, X_test, y_train, y_test = train_test_split(X_scaled, y, test_size=0.2, random_state=21)"
   ],
   "outputs": [],
   "execution_count": 247
  },
  {
   "cell_type": "markdown",
   "metadata": {},
   "source": [
    "## 2. Crossvalidation"
   ]
  },
  {
   "cell_type": "markdown",
   "metadata": {},
   "source": [
    "1. Write a function `crossval` that takes as arguments: `n_splits` for `KFold()`, `X`, `y`, model instantiated class with the parameters of the model (keep in mind: `random_state=21`) and returns for a given model class a result like this:\n",
    "\n",
    "```\n",
    "train -  2696.4496895424836   |   test -  1589.9979527104958\n",
    "train -  2660.957874001452   |   test -  2075.102636027137\n",
    "train -  2847.315529246795   |   test -  320.911928168403\n",
    "train -  2500.7691099659237   |   test -  4132.461382030178\n",
    "train -  2643.927917295123   |   test -  2237.8140952197878\n",
    "train -  2396.295678819444   |   test -  4509.650064742476\n",
    "train -  2003.402267924976   |   test -  8403.491474908551\n",
    "train -  2531.876094212613   |   test -  3135.944102735099\n",
    "train -  2683.1795186023123   |   test -  1796.01426292594\n",
    "train -  2537.1192483996338   |   test -  3439.29824116941\n",
    "Average RMSE on crossval is 3164.0686140637476\n",
    "```\n",
    "\n",
    "2. Run the function for `LinearRegression`, `DecisionTreeRegressor`, `RandomForestRegressor`. You may choose the parameters by yourself, but find the good enough for you."
   ]
  },
  {
   "cell_type": "code",
   "metadata": {
    "ExecuteTime": {
     "end_time": "2025-02-02T10:07:32.619179Z",
     "start_time": "2025-02-02T10:07:32.610296Z"
    }
   },
   "source": [
    "# Фолд — это часть набора данных, которая используется в процессе кросс-валидации (перекрестной проверки). \n",
    "# Кросс-валидация — это метод оценки производительности модели машинного обучения, при котором данные разбиваются на несколько частей (фолдов), чтобы модель могла быть обучена и протестирована на разных подмножествах данных.\n",
    "\n",
    "def crossval(n_splits, X, y, model):\n",
    "\n",
    "    # Создание объекта KFold для кросс-валидации\n",
    "    kf = KFold(n_splits=n_splits)\n",
    "    test_scores = []\n",
    "    \n",
    "     # Итерация по каждому фолду\n",
    "    for train_index, test_index in kf.split(X):\n",
    "        # Разделение данных на тренировочную и тестовую выборки для текущего фолда\n",
    "        X_train, X_test = X[train_index], X[test_index]\n",
    "        y_train, y_test = y[train_index], y[test_index]\n",
    "        \n",
    "        model.fit(X_train, y_train)\n",
    "        \n",
    "        y_train_pred = model.predict(X_train)\n",
    "        train_rmse = mean_squared_error(y_train, y_train_pred)\n",
    "        \n",
    "        y_test_pred = model.predict(X_test)\n",
    "        test_rmse = mean_squared_error(y_test, y_test_pred)\n",
    "        test_scores.append(test_rmse)\n",
    "        \n",
    "        print(f\"train - {train_rmse} | test - {test_rmse}\")\n",
    "        mean_test = np.mean(test_scores)\n",
    "        \n",
    "    print(f\"Average RMSE on crossval is {mean_test}\")"
   ],
   "outputs": [],
   "execution_count": 248
  },
  {
   "cell_type": "code",
   "metadata": {
    "ExecuteTime": {
     "end_time": "2025-02-02T10:07:32.633121Z",
     "start_time": "2025-02-02T10:07:32.620376Z"
    }
   },
   "source": [
    "linear = LinearRegression()\n",
    "crossval(2, X_scaled, y, linear)"
   ],
   "outputs": [
    {
     "name": "stdout",
     "output_type": "stream",
     "text": [
      "train - 2726.8833631953494 | test - 854.5642804919743\n",
      "train - 648.7514264494657 | test - 3991.8965379242322\n",
      "Average RMSE on crossval is 2423.230409208103\n"
     ]
    }
   ],
   "execution_count": 249
  },
  {
   "cell_type": "code",
   "metadata": {
    "ExecuteTime": {
     "end_time": "2025-02-02T10:07:32.668052Z",
     "start_time": "2025-02-02T10:07:32.634139Z"
    }
   },
   "source": [
    "tree = DecisionTreeRegressor(max_depth=4, random_state=21)\n",
    "crossval(10, X_scaled, y, tree)"
   ],
   "outputs": [
    {
     "name": "stdout",
     "output_type": "stream",
     "text": [
      "train - 242.75162909286098 | test - 0.0\n",
      "train - 134.6114036500268 | test - 1732.6640625\n",
      "train - 145.39059903381644 | test - 1267.7631611111105\n",
      "train - 242.75162909286098 | test - 0.0\n",
      "train - 94.09218464841652 | test - 3118.533125\n",
      "train - 95.29415861513685 | test - 7498.478888888889\n",
      "train - 91.76070048309178 | test - 5794.355902777777\n",
      "train - 214.27968022486775 | test - 358.0362723214288\n",
      "train - 239.28374867724867 | test - 0.0\n",
      "train - 99.98807936507937 | test - 3766.67003968254\n",
      "Average RMSE on crossval is 2353.6501452281746\n"
     ]
    }
   ],
   "execution_count": 250
  },
  {
   "cell_type": "code",
   "metadata": {
    "ExecuteTime": {
     "end_time": "2025-02-02T10:07:33.619175Z",
     "start_time": "2025-02-02T10:07:32.681510Z"
    }
   },
   "source": [
    "forest = RandomForestRegressor(random_state=21)\n",
    "crossval(10, X_scaled, y, forest)"
   ],
   "outputs": [
    {
     "name": "stdout",
     "output_type": "stream",
     "text": [
      "train - 189.03883381119115 | test - 0.0\n",
      "train - 171.43059640941985 | test - 674.3427991527775\n",
      "train - 181.87790681763258 | test - 450.18443013888935\n",
      "train - 188.9154474569239 | test - 0.0\n",
      "train - 147.2075291553943 | test - 1548.632764513888\n",
      "train - 79.48845006562003 | test - 5445.7870732222245\n",
      "train - 103.77510363848633 | test - 5447.562654777785\n",
      "train - 162.37935590158696 | test - 266.0115314325388\n",
      "train - 167.64679722619024 | test - 5.286061714285714\n",
      "train - 156.21493551428543 | test - 822.9440968888894\n",
      "Average RMSE on crossval is 1466.0751411841277\n"
     ]
    }
   ],
   "execution_count": 251
  },
  {
   "cell_type": "markdown",
   "metadata": {},
   "source": [
    "## 3. Predictions and evaluation"
   ]
  },
  {
   "cell_type": "markdown",
   "metadata": {},
   "source": [
    "1. Make predictions for the test dataset using each of the three models with the finalized parameters.\n",
    "2. Draw a plot for each of the models where the `x-axis` is the actual average difference and the `y-axis` is the prediction made by a model.\n",
    "3. How would plot look like in the ideal case? Put the answer to the markdown cell in the end of the section."
   ]
  },
  {
   "cell_type": "code",
   "metadata": {
    "ExecuteTime": {
     "end_time": "2025-02-02T10:07:33.718687Z",
     "start_time": "2025-02-02T10:07:33.620334Z"
    }
   },
   "source": [
    "y_pred_linear = linear.predict(X_test)\n",
    "plt.scatter(y_test, y_pred_linear, alpha=0.5)\n",
    "plt.plot([min(y_test), max(y_test)], [min(y_test), max(y_test)], color='red')"
   ],
   "outputs": [
    {
     "data": {
      "text/plain": [
       "[<matplotlib.lines.Line2D at 0x7637e84509b0>]"
      ]
     },
     "execution_count": 252,
     "metadata": {},
     "output_type": "execute_result"
    },
    {
     "data": {
      "text/plain": [
       "<Figure size 640x480 with 1 Axes>"
      ],
      "image/png": "[encoded data removed]"
     },
     "metadata": {},
     "output_type": "display_data"
    }
   ],
   "execution_count": 252
  },
  {
   "cell_type": "code",
   "metadata": {
    "ExecuteTime": {
     "end_time": "2025-02-02T10:07:33.839108Z",
     "start_time": "2025-02-02T10:07:33.719831Z"
    }
   },
   "source": [
    "y_pred_tree = tree.predict(X_test)\n",
    "plt.scatter(y_test, y_pred_tree, alpha=0.5)\n",
    "plt.plot([min(y_test), max(y_test)], [min(y_test), max(y_test)], color='red')"
   ],
   "outputs": [
    {
     "data": {
      "text/plain": [
       "[<matplotlib.lines.Line2D at 0x7637e82e04d0>]"
      ]
     },
     "execution_count": 253,
     "metadata": {},
     "output_type": "execute_result"
    },
    {
     "data": {
      "text/plain": [
       "<Figure size 640x480 with 1 Axes>"
      ],
      "image/png": "[encoded data removed]"
     },
     "metadata": {},
     "output_type": "display_data"
    }
   ],
   "execution_count": 253
  },
  {
   "cell_type": "code",
   "metadata": {
    "ExecuteTime": {
     "end_time": "2025-02-02T10:07:33.942971Z",
     "start_time": "2025-02-02T10:07:33.840776Z"
    }
   },
   "source": [
    "y_pred_forest = forest.predict(X_test)\n",
    "plt.scatter(y_test, y_pred_forest, alpha=0.5)\n",
    "plt.plot([min(y_test), max(y_test)], [min(y_test), max(y_test)], color='red')"
   ],
   "outputs": [
    {
     "data": {
      "text/plain": [
       "[<matplotlib.lines.Line2D at 0x7637e835ddf0>]"
      ]
     },
     "execution_count": 254,
     "metadata": {},
     "output_type": "execute_result"
    },
    {
     "data": {
      "text/plain": [
       "<Figure size 640x480 with 1 Axes>"
      ],
      "image/png": "[encoded data removed]"
     },
     "metadata": {},
     "output_type": "display_data"
    }
   ],
   "execution_count": 254
  },
  {
   "cell_type": "markdown",
   "metadata": {},
   "source": "Answer: В идеальном случае график покажет все точки, лежащие точно на красной пунктирной линии (y = x), прогнозы модели идеально совпадают с фактическими значениями\n"
  }
 ],
 "metadata": {
  "kernelspec": {
   "display_name": "Python 3",
   "language": "python",
   "name": "python3"
  },
  "language_info": {
   "codemirror_mode": {
    "name": "ipython",
    "version": 3
   },
   "file_extension": ".py",
   "mimetype": "text/x-python",
   "name": "python",
   "nbconvert_exporter": "python",
   "pygments_lexer": "ipython3",
   "version": "3.7.7"
  }
 },
 "nbformat": 4,
 "nbformat_minor": 4
}
