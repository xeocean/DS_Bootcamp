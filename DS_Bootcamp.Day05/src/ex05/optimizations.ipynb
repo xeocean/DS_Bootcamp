{
 "cells": [
  {
   "cell_type": "markdown",
   "id": "7acb234827057dde",
   "metadata": {},
   "source": [
    "## Упражнение 05: Оптимизация Pandas"
   ]
  },
  {
   "cell_type": "code",
   "execution_count": 51,
   "id": "a7f52341d10501f1",
   "metadata": {
    "ExecuteTime": {
     "end_time": "2025-01-05T16:09:14.520290Z",
     "start_time": "2025-01-05T16:09:14.517830Z"
    }
   },
   "outputs": [],
   "source": [
    "import pandas as pd"
   ]
  },
  {
   "cell_type": "markdown",
   "id": "f373276bffc00ede",
   "metadata": {},
   "source": [
    "## read the fines.csv that you saved in the previous exercise"
   ]
  },
  {
   "cell_type": "code",
   "execution_count": 52,
   "id": "b6404e3d88ac36d9",
   "metadata": {
    "ExecuteTime": {
     "end_time": "2025-01-05T16:09:14.557876Z",
     "start_time": "2025-01-05T16:09:14.545132Z"
    }
   },
   "outputs": [
    {
     "data": {
      "text/html": [
       "<div>\n",
       "<style scoped>\n",
       "    .dataframe tbody tr th:only-of-type {\n",
       "        vertical-align: middle;\n",
       "    }\n",
       "\n",
       "    .dataframe tbody tr th {\n",
       "        vertical-align: top;\n",
       "    }\n",
       "\n",
       "    .dataframe thead th {\n",
       "        text-align: right;\n",
       "    }\n",
       "</style>\n",
       "<table border=\"1\" class=\"dataframe\">\n",
       "  <thead>\n",
       "    <tr style=\"text-align: right;\">\n",
       "      <th></th>\n",
       "      <th>CarNumber</th>\n",
       "      <th>Refund</th>\n",
       "      <th>Fines</th>\n",
       "      <th>Make</th>\n",
       "      <th>Model</th>\n",
       "      <th>Year</th>\n",
       "    </tr>\n",
       "  </thead>\n",
       "  <tbody>\n",
       "    <tr>\n",
       "      <th>0</th>\n",
       "      <td>Y163O8161RUS</td>\n",
       "      <td>2.0</td>\n",
       "      <td>3200.0</td>\n",
       "      <td>Ford</td>\n",
       "      <td>Focus</td>\n",
       "      <td>1989</td>\n",
       "    </tr>\n",
       "    <tr>\n",
       "      <th>1</th>\n",
       "      <td>E432XX77RUS</td>\n",
       "      <td>1.0</td>\n",
       "      <td>6500.0</td>\n",
       "      <td>Toyota</td>\n",
       "      <td>Camry</td>\n",
       "      <td>1995</td>\n",
       "    </tr>\n",
       "    <tr>\n",
       "      <th>2</th>\n",
       "      <td>7184TT36RUS</td>\n",
       "      <td>1.0</td>\n",
       "      <td>2100.0</td>\n",
       "      <td>Ford</td>\n",
       "      <td>Focus</td>\n",
       "      <td>1984</td>\n",
       "    </tr>\n",
       "    <tr>\n",
       "      <th>3</th>\n",
       "      <td>X582HE161RUS</td>\n",
       "      <td>2.0</td>\n",
       "      <td>2000.0</td>\n",
       "      <td>Ford</td>\n",
       "      <td>Focus</td>\n",
       "      <td>2015</td>\n",
       "    </tr>\n",
       "    <tr>\n",
       "      <th>4</th>\n",
       "      <td>92918M178RUS</td>\n",
       "      <td>1.0</td>\n",
       "      <td>5700.0</td>\n",
       "      <td>Ford</td>\n",
       "      <td>Focus</td>\n",
       "      <td>2014</td>\n",
       "    </tr>\n",
       "    <tr>\n",
       "      <th>...</th>\n",
       "      <td>...</td>\n",
       "      <td>...</td>\n",
       "      <td>...</td>\n",
       "      <td>...</td>\n",
       "      <td>...</td>\n",
       "      <td>...</td>\n",
       "    </tr>\n",
       "    <tr>\n",
       "      <th>925</th>\n",
       "      <td>70RUS</td>\n",
       "      <td>1.0</td>\n",
       "      <td>100.0</td>\n",
       "      <td>Dodge</td>\n",
       "      <td>Neon</td>\n",
       "      <td>2001</td>\n",
       "    </tr>\n",
       "    <tr>\n",
       "      <th>926</th>\n",
       "      <td>71RUS</td>\n",
       "      <td>2.0</td>\n",
       "      <td>1100.0</td>\n",
       "      <td>Ford</td>\n",
       "      <td>Focus</td>\n",
       "      <td>2000</td>\n",
       "    </tr>\n",
       "    <tr>\n",
       "      <th>927</th>\n",
       "      <td>72RUS</td>\n",
       "      <td>1.0</td>\n",
       "      <td>200.0</td>\n",
       "      <td>Ford</td>\n",
       "      <td>Focus</td>\n",
       "      <td>1999</td>\n",
       "    </tr>\n",
       "    <tr>\n",
       "      <th>928</th>\n",
       "      <td>73RUS</td>\n",
       "      <td>5.0</td>\n",
       "      <td>500.0</td>\n",
       "      <td>Ford</td>\n",
       "      <td>Focus</td>\n",
       "      <td>2004</td>\n",
       "    </tr>\n",
       "    <tr>\n",
       "      <th>929</th>\n",
       "      <td>74RUS</td>\n",
       "      <td>6.0</td>\n",
       "      <td>500.0</td>\n",
       "      <td>Ford</td>\n",
       "      <td>Focus</td>\n",
       "      <td>2004</td>\n",
       "    </tr>\n",
       "  </tbody>\n",
       "</table>\n",
       "<p>930 rows × 6 columns</p>\n",
       "</div>"
      ],
      "text/plain": [
       "        CarNumber  Refund   Fines    Make  Model  Year\n",
       "0    Y163O8161RUS     2.0  3200.0    Ford  Focus  1989\n",
       "1     E432XX77RUS     1.0  6500.0  Toyota  Camry  1995\n",
       "2     7184TT36RUS     1.0  2100.0    Ford  Focus  1984\n",
       "3    X582HE161RUS     2.0  2000.0    Ford  Focus  2015\n",
       "4    92918M178RUS     1.0  5700.0    Ford  Focus  2014\n",
       "..            ...     ...     ...     ...    ...   ...\n",
       "925         70RUS     1.0   100.0   Dodge   Neon  2001\n",
       "926         71RUS     2.0  1100.0    Ford  Focus  2000\n",
       "927         72RUS     1.0   200.0    Ford  Focus  1999\n",
       "928         73RUS     5.0   500.0    Ford  Focus  2004\n",
       "929         74RUS     6.0   500.0    Ford  Focus  2004\n",
       "\n",
       "[930 rows x 6 columns]"
      ]
     },
     "execution_count": 52,
     "metadata": {},
     "output_type": "execute_result"
    }
   ],
   "source": [
    "df = pd.read_csv('../data/fines.csv')\n",
    "df"
   ]
  },
  {
   "cell_type": "markdown",
   "id": "74f4723ed5cae69a",
   "metadata": {},
   "source": [
    "## iterations: in all the following subtasks, you need to calculate fines/refund*year for each row and create a new column with the calculated data and measure the time using the magic command %%timeit in the cell"
   ]
  },
  {
   "cell_type": "markdown",
   "id": "cb0fe6c2ce75f17d",
   "metadata": {},
   "source": []
  },
  {
   "cell_type": "code",
   "execution_count": 53,
   "id": "f92ab62b4f565b7a",
   "metadata": {
    "ExecuteTime": {
     "end_time": "2025-01-05T16:09:14.563068Z",
     "start_time": "2025-01-05T16:09:14.559229Z"
    }
   },
   "outputs": [],
   "source": [
    "def loop(frame):\n",
    "    data = []\n",
    "    for i in range(0, len(frame)):\n",
    "        row = df.iloc[i] \n",
    "        value = row['Fines'] / row['Refund'] * row['Year']\n",
    "        data.append(value)\n",
    "    return data\n"
   ]
  },
  {
   "cell_type": "code",
   "execution_count": 54,
   "id": "75fbac7fc85aa632",
   "metadata": {
    "ExecuteTime": {
     "end_time": "2025-01-05T16:09:17.774338Z",
     "start_time": "2025-01-05T16:09:14.564941Z"
    }
   },
   "outputs": [
    {
     "name": "stdout",
     "output_type": "stream",
     "text": [
      "38.9 ms ± 199 μs per loop (mean ± std. dev. of 7 runs, 10 loops each)\n"
     ]
    }
   ],
   "source": [
    "%%timeit\n",
    "df['Result'] = loop(df)\n",
    "df"
   ]
  },
  {
   "cell_type": "code",
   "execution_count": 55,
   "id": "c24c663e0d6fc436",
   "metadata": {
    "ExecuteTime": {
     "end_time": "2025-01-05T16:09:17.777833Z",
     "start_time": "2025-01-05T16:09:17.775132Z"
    }
   },
   "outputs": [],
   "source": [
    "def iter_row(frame):\n",
    "    data = []\n",
    "    for index, row in frame.iterrows():\n",
    "        value = row['Fines'] / row['Refund'] * row['Year']\n",
    "        data.append(value)\n",
    "    return data\n"
   ]
  },
  {
   "cell_type": "code",
   "execution_count": 56,
   "id": "86e55064b479abb9",
   "metadata": {
    "ExecuteTime": {
     "end_time": "2025-01-05T16:09:20.671263Z",
     "start_time": "2025-01-05T16:09:17.779100Z"
    }
   },
   "outputs": [
    {
     "name": "stdout",
     "output_type": "stream",
     "text": [
      "35.4 ms ± 572 μs per loop (mean ± std. dev. of 7 runs, 10 loops each)\n"
     ]
    }
   ],
   "source": [
    "%%timeit\n",
    "df['Result'] = iter_row(df)\n",
    "df"
   ]
  },
  {
   "cell_type": "code",
   "execution_count": 57,
   "id": "77fe7f3ebf8eabc3",
   "metadata": {
    "ExecuteTime": {
     "end_time": "2025-01-05T16:09:25.649736Z",
     "start_time": "2025-01-05T16:09:20.672067Z"
    }
   },
   "outputs": [
    {
     "name": "stdout",
     "output_type": "stream",
     "text": [
      "6.11 ms ± 81.6 μs per loop (mean ± std. dev. of 7 runs, 100 loops each)\n"
     ]
    }
   ],
   "source": [
    "%%timeit\n",
    "df['Result'] = df.apply(axis=1, func=lambda row: row['Fines'] / row['Refund'] * row['Year'])\n",
    "df"
   ]
  },
  {
   "cell_type": "code",
   "execution_count": 58,
   "id": "64f40b8d2cb29ef4",
   "metadata": {
    "ExecuteTime": {
     "end_time": "2025-01-05T16:09:40.252544Z",
     "start_time": "2025-01-05T16:09:25.650565Z"
    }
   },
   "outputs": [
    {
     "name": "stdout",
     "output_type": "stream",
     "text": [
      "180 μs ± 7.16 μs per loop (mean ± std. dev. of 7 runs, 10,000 loops each)\n"
     ]
    }
   ],
   "source": [
    "%%timeit\n",
    "df['Result'] = df['Fines'] / df['Refund'] * df['Year']\n",
    "df"
   ]
  },
  {
   "cell_type": "code",
   "execution_count": 59,
   "id": "c12f363ab4fb9837",
   "metadata": {
    "ExecuteTime": {
     "end_time": "2025-01-05T16:09:47.346013Z",
     "start_time": "2025-01-05T16:09:40.253482Z"
    }
   },
   "outputs": [
    {
     "name": "stdout",
     "output_type": "stream",
     "text": [
      "87.3 μs ± 4.32 μs per loop (mean ± std. dev. of 7 runs, 10,000 loops each)\n"
     ]
    }
   ],
   "source": [
    "%%timeit\n",
    "df['Result'] = df['Fines'].values / df['Refund'].values * df['Year'].values\n",
    "df"
   ]
  },
  {
   "cell_type": "markdown",
   "id": "908f94342db0021c",
   "metadata": {},
   "source": [
    "## indexing: measure the time using the magic command %%timeit in the cell"
   ]
  },
  {
   "cell_type": "code",
   "execution_count": 61,
   "id": "916d8ec17901ffc6",
   "metadata": {
    "ExecuteTime": {
     "end_time": "2025-01-05T16:13:37.722801Z",
     "start_time": "2025-01-05T16:13:35.578810Z"
    }
   },
   "outputs": [
    {
     "name": "stdout",
     "output_type": "stream",
     "text": [
      "259 μs ± 8.27 μs per loop (mean ± std. dev. of 7 runs, 1,000 loops each)\n"
     ]
    }
   ],
   "source": [
    "%%timeit\n",
    "df.loc[df['CarNumber'] == 'O136HO197RUS']"
   ]
  },
  {
   "cell_type": "code",
   "execution_count": 62,
   "id": "fddffd041667da37",
   "metadata": {
    "ExecuteTime": {
     "end_time": "2025-01-05T16:14:04.838702Z",
     "start_time": "2025-01-05T16:14:04.829396Z"
    }
   },
   "outputs": [
    {
     "data": {
      "text/html": [
       "<div>\n",
       "<style scoped>\n",
       "    .dataframe tbody tr th:only-of-type {\n",
       "        vertical-align: middle;\n",
       "    }\n",
       "\n",
       "    .dataframe tbody tr th {\n",
       "        vertical-align: top;\n",
       "    }\n",
       "\n",
       "    .dataframe thead th {\n",
       "        text-align: right;\n",
       "    }\n",
       "</style>\n",
       "<table border=\"1\" class=\"dataframe\">\n",
       "  <thead>\n",
       "    <tr style=\"text-align: right;\">\n",
       "      <th></th>\n",
       "      <th>Refund</th>\n",
       "      <th>Fines</th>\n",
       "      <th>Make</th>\n",
       "      <th>Model</th>\n",
       "      <th>Year</th>\n",
       "      <th>Result</th>\n",
       "    </tr>\n",
       "    <tr>\n",
       "      <th>CarNumber</th>\n",
       "      <th></th>\n",
       "      <th></th>\n",
       "      <th></th>\n",
       "      <th></th>\n",
       "      <th></th>\n",
       "      <th></th>\n",
       "    </tr>\n",
       "  </thead>\n",
       "  <tbody>\n",
       "    <tr>\n",
       "      <th>Y163O8161RUS</th>\n",
       "      <td>2.0</td>\n",
       "      <td>3200.0</td>\n",
       "      <td>Ford</td>\n",
       "      <td>Focus</td>\n",
       "      <td>1989</td>\n",
       "      <td>3182400.0</td>\n",
       "    </tr>\n",
       "    <tr>\n",
       "      <th>E432XX77RUS</th>\n",
       "      <td>1.0</td>\n",
       "      <td>6500.0</td>\n",
       "      <td>Toyota</td>\n",
       "      <td>Camry</td>\n",
       "      <td>1995</td>\n",
       "      <td>12967500.0</td>\n",
       "    </tr>\n",
       "    <tr>\n",
       "      <th>7184TT36RUS</th>\n",
       "      <td>1.0</td>\n",
       "      <td>2100.0</td>\n",
       "      <td>Ford</td>\n",
       "      <td>Focus</td>\n",
       "      <td>1984</td>\n",
       "      <td>4166400.0</td>\n",
       "    </tr>\n",
       "    <tr>\n",
       "      <th>X582HE161RUS</th>\n",
       "      <td>2.0</td>\n",
       "      <td>2000.0</td>\n",
       "      <td>Ford</td>\n",
       "      <td>Focus</td>\n",
       "      <td>2015</td>\n",
       "      <td>2015000.0</td>\n",
       "    </tr>\n",
       "    <tr>\n",
       "      <th>92918M178RUS</th>\n",
       "      <td>1.0</td>\n",
       "      <td>5700.0</td>\n",
       "      <td>Ford</td>\n",
       "      <td>Focus</td>\n",
       "      <td>2014</td>\n",
       "      <td>11479800.0</td>\n",
       "    </tr>\n",
       "    <tr>\n",
       "      <th>...</th>\n",
       "      <td>...</td>\n",
       "      <td>...</td>\n",
       "      <td>...</td>\n",
       "      <td>...</td>\n",
       "      <td>...</td>\n",
       "      <td>...</td>\n",
       "    </tr>\n",
       "    <tr>\n",
       "      <th>70RUS</th>\n",
       "      <td>1.0</td>\n",
       "      <td>100.0</td>\n",
       "      <td>Dodge</td>\n",
       "      <td>Neon</td>\n",
       "      <td>2001</td>\n",
       "      <td>200100.0</td>\n",
       "    </tr>\n",
       "    <tr>\n",
       "      <th>71RUS</th>\n",
       "      <td>2.0</td>\n",
       "      <td>1100.0</td>\n",
       "      <td>Ford</td>\n",
       "      <td>Focus</td>\n",
       "      <td>2000</td>\n",
       "      <td>1100000.0</td>\n",
       "    </tr>\n",
       "    <tr>\n",
       "      <th>72RUS</th>\n",
       "      <td>1.0</td>\n",
       "      <td>200.0</td>\n",
       "      <td>Ford</td>\n",
       "      <td>Focus</td>\n",
       "      <td>1999</td>\n",
       "      <td>399800.0</td>\n",
       "    </tr>\n",
       "    <tr>\n",
       "      <th>73RUS</th>\n",
       "      <td>5.0</td>\n",
       "      <td>500.0</td>\n",
       "      <td>Ford</td>\n",
       "      <td>Focus</td>\n",
       "      <td>2004</td>\n",
       "      <td>200400.0</td>\n",
       "    </tr>\n",
       "    <tr>\n",
       "      <th>74RUS</th>\n",
       "      <td>6.0</td>\n",
       "      <td>500.0</td>\n",
       "      <td>Ford</td>\n",
       "      <td>Focus</td>\n",
       "      <td>2004</td>\n",
       "      <td>167000.0</td>\n",
       "    </tr>\n",
       "  </tbody>\n",
       "</table>\n",
       "<p>930 rows × 6 columns</p>\n",
       "</div>"
      ],
      "text/plain": [
       "              Refund   Fines    Make  Model  Year      Result\n",
       "CarNumber                                                    \n",
       "Y163O8161RUS     2.0  3200.0    Ford  Focus  1989   3182400.0\n",
       "E432XX77RUS      1.0  6500.0  Toyota  Camry  1995  12967500.0\n",
       "7184TT36RUS      1.0  2100.0    Ford  Focus  1984   4166400.0\n",
       "X582HE161RUS     2.0  2000.0    Ford  Focus  2015   2015000.0\n",
       "92918M178RUS     1.0  5700.0    Ford  Focus  2014  11479800.0\n",
       "...              ...     ...     ...    ...   ...         ...\n",
       "70RUS            1.0   100.0   Dodge   Neon  2001    200100.0\n",
       "71RUS            2.0  1100.0    Ford  Focus  2000   1100000.0\n",
       "72RUS            1.0   200.0    Ford  Focus  1999    399800.0\n",
       "73RUS            5.0   500.0    Ford  Focus  2004    200400.0\n",
       "74RUS            6.0   500.0    Ford  Focus  2004    167000.0\n",
       "\n",
       "[930 rows x 6 columns]"
      ]
     },
     "execution_count": 62,
     "metadata": {},
     "output_type": "execute_result"
    }
   ],
   "source": [
    "df.set_index('CarNumber', inplace=True)\n",
    "df"
   ]
  },
  {
   "cell_type": "code",
   "execution_count": 65,
   "id": "4cb60d426f1b7332",
   "metadata": {
    "ExecuteTime": {
     "end_time": "2025-01-05T16:15:05.477732Z",
     "start_time": "2025-01-05T16:14:52.242534Z"
    }
   },
   "outputs": [
    {
     "name": "stdout",
     "output_type": "stream",
     "text": [
      "162 μs ± 2.69 μs per loop (mean ± std. dev. of 7 runs, 10,000 loops each)\n"
     ]
    }
   ],
   "source": [
    "%%timeit\n",
    "df.loc[df.index == 'O136HO197RUS']"
   ]
  },
  {
   "cell_type": "markdown",
   "id": "a6dc417c3a273b0",
   "metadata": {},
   "source": [
    "## downcasting"
   ]
  },
  {
   "cell_type": "code",
   "execution_count": 67,
   "id": "8781d5dd92dcd06",
   "metadata": {
    "ExecuteTime": {
     "end_time": "2025-01-05T16:15:43.978144Z",
     "start_time": "2025-01-05T16:15:43.970686Z"
    }
   },
   "outputs": [
    {
     "name": "stdout",
     "output_type": "stream",
     "text": [
      "<class 'pandas.core.frame.DataFrame'>\n",
      "Index: 930 entries, Y163O8161RUS to 74RUS\n",
      "Data columns (total 6 columns):\n",
      " #   Column  Non-Null Count  Dtype  \n",
      "---  ------  --------------  -----  \n",
      " 0   Refund  930 non-null    float64\n",
      " 1   Fines   930 non-null    float64\n",
      " 2   Make    930 non-null    object \n",
      " 3   Model   919 non-null    object \n",
      " 4   Year    930 non-null    int64  \n",
      " 5   Result  930 non-null    float64\n",
      "dtypes: float64(3), int64(1), object(2)\n",
      "memory usage: 214.2 KB\n"
     ]
    }
   ],
   "source": [
    "df.info(memory_usage='deep')"
   ]
  },
  {
   "cell_type": "code",
   "execution_count": 94,
   "id": "287e7c8fbb903b33",
   "metadata": {
    "ExecuteTime": {
     "end_time": "2025-01-05T16:29:58.514854Z",
     "start_time": "2025-01-05T16:29:58.505523Z"
    }
   },
   "outputs": [
    {
     "name": "stdout",
     "output_type": "stream",
     "text": [
      "<class 'pandas.core.frame.DataFrame'>\n",
      "Index: 930 entries, Y163O8161RUS to 74RUS\n",
      "Data columns (total 6 columns):\n",
      " #   Column  Non-Null Count  Dtype   \n",
      "---  ------  --------------  -----   \n",
      " 0   Refund  930 non-null    int8    \n",
      " 1   Fines   930 non-null    float32 \n",
      " 2   Make    930 non-null    category\n",
      " 3   Model   919 non-null    category\n",
      " 4   Year    930 non-null    int16   \n",
      " 5   Result  930 non-null    float32 \n",
      "dtypes: category(2), float32(2), int16(1), int8(1)\n",
      "memory usage: 100.9 KB\n"
     ]
    }
   ],
   "source": [
    "df_optimized = df.copy()\n",
    "\n",
    "df_optimized['Refund'] = df_optimized['Refund'].astype('int8')\n",
    "df_optimized['Fines'] = df_optimized['Fines'].astype('float32')\n",
    "df_optimized['Make'] = df_optimized['Make'].astype('category')\n",
    "df_optimized['Model'] = df_optimized['Model'].astype('category')\n",
    "df_optimized['Year'] = df_optimized['Year'].astype('int16')\n",
    "df_optimized['Result'] = df_optimized['Result'].astype('float32')\n",
    "\n",
    "df_optimized.info(memory_usage='deep')"
   ]
  }
 ],
 "metadata": {
  "kernelspec": {
   "display_name": "Python 3 (ipykernel)",
   "language": "python",
   "name": "python3"
  },
  "language_info": {
   "codemirror_mode": {
    "name": "ipython",
    "version": 3
   },
   "file_extension": ".py",
   "mimetype": "text/x-python",
   "name": "python",
   "nbconvert_exporter": "python",
   "pygments_lexer": "ipython3",
   "version": "3.12.8"
  }
 },
 "nbformat": 4,
 "nbformat_minor": 5
}
